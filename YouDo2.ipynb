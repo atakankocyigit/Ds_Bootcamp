{
  "nbformat": 4,
  "nbformat_minor": 0,
  "metadata": {
    "colab": {
      "name": "YouDo2.ipynb",
      "provenance": [],
      "toc_visible": true
    },
    "kernelspec": {
      "name": "python3",
      "display_name": "Python 3"
    },
    "language_info": {
      "name": "python"
    }
  },
  "cells": [
    {
      "cell_type": "code",
      "source": [
        "import warnings\n",
        "warnings.filterwarnings(\"ignore\")\n",
        "!pip install rich"
      ],
      "metadata": {
        "colab": {
          "base_uri": "https://localhost:8080/"
        },
        "id": "oKhTM2ymbZd1",
        "outputId": "c7d59a4a-9d5e-4185-8f76-c6f7fbdb9cc3"
      },
      "execution_count": 1,
      "outputs": [
        {
          "output_type": "stream",
          "name": "stdout",
          "text": [
            "Requirement already satisfied: rich in /usr/local/lib/python3.7/dist-packages (12.2.0)\n",
            "Requirement already satisfied: pygments<3.0.0,>=2.6.0 in /usr/local/lib/python3.7/dist-packages (from rich) (2.6.1)\n",
            "Requirement already satisfied: typing-extensions<5.0,>=4.0.0 in /usr/local/lib/python3.7/dist-packages (from rich) (4.1.1)\n",
            "Requirement already satisfied: commonmark<0.10.0,>=0.9.0 in /usr/local/lib/python3.7/dist-packages (from rich) (0.9.1)\n"
          ]
        }
      ]
    },
    {
      "cell_type": "code",
      "source": [
        "import numpy as np\n",
        "from tqdm import trange\n",
        "import pandas as pd\n",
        "import numpy as np\n",
        "from rich.console import Console\n",
        "from IPython.display import clear_output "
      ],
      "metadata": {
        "id": "5k54UzfnbTan"
      },
      "execution_count": 2,
      "outputs": []
    },
    {
      "cell_type": "markdown",
      "source": [
        "#Read Dataset"
      ],
      "metadata": {
        "id": "HMzgHmpX2vCA"
      }
    },
    {
      "cell_type": "code",
      "source": [
        "cons = Console()\n",
        "\n",
        "df = pd.read_csv('https://files.grouplens.org/datasets/movielens/ml-100k/u.data', delimiter=r'\\t',\n",
        "                 names=['user_id', 'item_id', 'rating', 'timestamp'])\n",
        "\n",
        "r = df.pivot(index='user_id', columns='item_id', values='rating').values\n",
        "r"
      ],
      "metadata": {
        "colab": {
          "base_uri": "https://localhost:8080/"
        },
        "id": "I6fVQrSa2ugI",
        "outputId": "77a083e4-8697-4661-c835-094c799dc6c4"
      },
      "execution_count": 3,
      "outputs": [
        {
          "output_type": "execute_result",
          "data": {
            "text/plain": [
              "array([[ 5.,  3.,  4., ..., nan, nan, nan],\n",
              "       [ 4., nan, nan, ..., nan, nan, nan],\n",
              "       [nan, nan, nan, ..., nan, nan, nan],\n",
              "       ...,\n",
              "       [ 5., nan, nan, ..., nan, nan, nan],\n",
              "       [nan, nan, nan, ..., nan, nan, nan],\n",
              "       [nan,  5., nan, ..., nan, nan, nan]])"
            ]
          },
          "metadata": {},
          "execution_count": 3
        }
      ]
    },
    {
      "cell_type": "markdown",
      "source": [
        "# Regression Model"
      ],
      "metadata": {
        "id": "KUZqdZys2edj"
      }
    },
    {
      "cell_type": "markdown",
      "source": [
        "## Loss Function"
      ],
      "metadata": {
        "id": "3gKjpGLO19qp"
      }
    },
    {
      "cell_type": "markdown",
      "source": [
        "S = {(i, j): $r_{i,j}$ is observed}"
      ],
      "metadata": {
        "id": "u7-hVA9pthDd"
      }
    },
    {
      "cell_type": "markdown",
      "source": [
        "We will make predictions according to the biases of each user and item. Hence the estimated value:"
      ],
      "metadata": {
        "id": "AXngX9Mrq2EV"
      }
    },
    {
      "cell_type": "markdown",
      "source": [
        "$$\\hat{r}_{i,j} = \\beta^{user}_i + \\beta^{item}_j$$\n",
        "\n",
        "\n"
      ],
      "metadata": {
        "id": "2mAItmW8oCpG"
      }
    },
    {
      "cell_type": "markdown",
      "source": [
        "$$Loss Function: {\\dfrac{1}{2}} \\sum_{i,j \\in S }  (r_{i,j} - \\beta^{user}_i - \\beta^{item}_j)^2 = {\\dfrac{1}{2}} \\sum_{i,j \\in S }  (r_{i,j} - \\hat{r}_{i,j})^2$$"
      ],
      "metadata": {
        "id": "Xj2D3AldqpA4"
      }
    },
    {
      "cell_type": "code",
      "source": [
        "def loss(r: np.ndarray, userbias: np.ndarray, itembias: np.ndarray, i: int, j: int):\n",
        "  return ((r[i, j] - userbias[i] - itembias[j]) ** 2) / 2"
      ],
      "metadata": {
        "id": "63DwgrZIvCdQ"
      },
      "execution_count": 4,
      "outputs": []
    },
    {
      "cell_type": "markdown",
      "source": [
        "##Gradient"
      ],
      "metadata": {
        "id": "k3VqFAx42B5c"
      }
    },
    {
      "cell_type": "markdown",
      "source": [
        "When we take the derivative of the Loss Function with respect to the $\\beta^{user}$ to calculate the gradient, it is equal to the derivative with respect to the $\\beta^{item}$: <br><br>\n",
        "\n",
        "\n",
        "$$ \\frac{\\partial L}{\\partial \\beta^{user}} = \\frac{\\partial L}{\\partial \\beta^{item}} =  -\\sum_{i,j \\in S }  (r_{i,j} - \\hat{r}_{i,j}) = -\\sum_{i,j \\in S }  (r_{i,j} - \\beta^{user}_i - \\beta^{item}_j)$$\n"
      ],
      "metadata": {
        "id": "1hMG2d26uKgk"
      }
    },
    {
      "cell_type": "code",
      "source": [
        "def gradient(r: np.ndarray, userbias: np.ndarray, itembias: np.ndarray, i: int, j: int):\n",
        "  return -(r[i, j] - userbias[i] - itembias[j])"
      ],
      "metadata": {
        "id": "Hj5W6dqcvcwD"
      },
      "execution_count": 5,
      "outputs": []
    },
    {
      "cell_type": "markdown",
      "source": [
        "##Regression Model Training"
      ],
      "metadata": {
        "id": "RnlBdem421Mh"
      }
    },
    {
      "cell_type": "code",
      "execution_count": 6,
      "metadata": {
        "id": "ZRWr5lfWjiHW"
      },
      "outputs": [],
      "source": [
        "def fitLinearRegression(r: np.ndarray, userbias: np.ndarray, itembias: np.ndarray, irow: np.ndarray, jcol: np.ndarray, learning_rate: float = 0.001, epoch: int = 200) -> np.ndarray:\n",
        "    for t in trange(epoch):\n",
        "        userbias_prev = userbias.copy()\n",
        "        itembias_prev = itembias.copy()\n",
        "        lossArr = []\n",
        "        for i, j in zip(irow, jcol):\n",
        "          if np.isnan(r[i, j]):\n",
        "            continue\n",
        "          lossArr.append(loss(r, userbias, itembias, i, j))\n",
        "          # Stochastic Gradient Descent\n",
        "          gradientUI = gradient(r, userbias, itembias, i, j)\n",
        "          userbias[i] = userbias[i] - learning_rate * gradientUI\n",
        "          itembias[j] = itembias[j] - learning_rate * gradientUI\n",
        "        \n",
        "        if (t+1) % 20 == 0:\n",
        "          print(f\"iteration {t+1}, Total Loss: {np.sum(lossArr)}\")\n",
        "        \n",
        "        if np.linalg.norm(userbias - userbias_prev) < 0.0001 or np.linalg.norm(itembias - itembias_prev) < 0.0001:\n",
        "          print(f\"I do early stopping at iteration {t+1}\")\n",
        "          break\n",
        "    \n",
        "    return userbias, itembias"
      ]
    },
    {
      "cell_type": "markdown",
      "source": [
        "##Train-Test Split"
      ],
      "metadata": {
        "id": "mxAB94e3jtCU"
      }
    },
    {
      "cell_type": "markdown",
      "source": [
        "While splitting the Train-Test, the values reserved for the test set are changed to nan."
      ],
      "metadata": {
        "id": "09b_9F4JyaBA"
      }
    },
    {
      "cell_type": "code",
      "source": [
        "def train_test_split(r, ratio):\n",
        "  #index of non-empty elements\n",
        "  irow, jcol = np.where(~np.isnan(r))\n",
        "  cons.print(f\"{len(irow)} entries available\")\n",
        "\n",
        "  idx = np.random.choice(np.arange(len(irow)), int(len(irow) * ratio), replace=False)\n",
        "  test_irow = irow[idx]\n",
        "  test_jcol = jcol[idx]\n",
        "\n",
        "  r_copy = r.copy()\n",
        "\n",
        "  for i, j in zip(test_irow, test_jcol):\n",
        "      r_copy[i][j] = np.nan\n",
        "  return r_copy, irow, jcol, test_irow, test_jcol"
      ],
      "metadata": {
        "id": "zQIR3NVbrCwI"
      },
      "execution_count": 7,
      "outputs": []
    },
    {
      "cell_type": "markdown",
      "source": [
        "20% of the data is reserved for the test set."
      ],
      "metadata": {
        "id": "YbqBkgaRylN9"
      }
    },
    {
      "cell_type": "code",
      "source": [
        "r_train, irow, jcol, test_irow, test_jcol = train_test_split(r, 0.2)"
      ],
      "metadata": {
        "colab": {
          "base_uri": "https://localhost:8080/",
          "height": 33
        },
        "id": "A6VsyuM_CeM_",
        "outputId": "185d80e4-a179-4ec7-d7c0-cd7f9a7dc88d"
      },
      "execution_count": 8,
      "outputs": [
        {
          "output_type": "display_data",
          "data": {
            "text/plain": [
              "\u001b[1;36m100000\u001b[0m entries available\n"
            ],
            "text/html": [
              "<pre style=\"white-space:pre;overflow-x:auto;line-height:normal;font-family:Menlo,'DejaVu Sans Mono',consolas,'Courier New',monospace\"><span style=\"color: #008080; text-decoration-color: #008080; font-weight: bold\">100000</span> entries available\n",
              "</pre>\n"
            ]
          },
          "metadata": {}
        }
      ]
    },
    {
      "cell_type": "markdown",
      "source": [
        "## Regression Model"
      ],
      "metadata": {
        "id": "2ETytiw08i_V"
      }
    },
    {
      "cell_type": "markdown",
      "source": [
        "When model training starts, bias values are generated randomly. After that, the model is created by updating it in the fitLinearRegression method."
      ],
      "metadata": {
        "id": "pig1MtArzs_F"
      }
    },
    {
      "cell_type": "code",
      "source": [
        "userBias, itemBias = np.random.rand(r.shape[0]), np.random.rand(r.shape[1])\n",
        "userBias, itemBias = fitLinearRegression(r_train, userBias, itemBias, irow, jcol, learning_rate = 0.001)"
      ],
      "metadata": {
        "colab": {
          "base_uri": "https://localhost:8080/"
        },
        "id": "t82TTQiWbxFe",
        "outputId": "90719feb-1716-4d0b-a06b-d72e883a09f5"
      },
      "execution_count": 9,
      "outputs": [
        {
          "output_type": "stream",
          "name": "stderr",
          "text": [
            " 10%|█         | 20/200 [00:19<03:22,  1.13s/it]"
          ]
        },
        {
          "output_type": "stream",
          "name": "stdout",
          "text": [
            "iteration 20, Total Loss: 41223.92939779688\n"
          ]
        },
        {
          "output_type": "stream",
          "name": "stderr",
          "text": [
            " 20%|██        | 40/200 [00:28<01:15,  2.12it/s]"
          ]
        },
        {
          "output_type": "stream",
          "name": "stdout",
          "text": [
            "iteration 40, Total Loss: 36440.70675837151\n"
          ]
        },
        {
          "output_type": "stream",
          "name": "stderr",
          "text": [
            " 30%|███       | 60/200 [00:38<01:06,  2.11it/s]"
          ]
        },
        {
          "output_type": "stream",
          "name": "stdout",
          "text": [
            "iteration 60, Total Loss: 34954.8371234052\n"
          ]
        },
        {
          "output_type": "stream",
          "name": "stderr",
          "text": [
            " 40%|████      | 80/200 [00:47<00:57,  2.09it/s]"
          ]
        },
        {
          "output_type": "stream",
          "name": "stdout",
          "text": [
            "iteration 80, Total Loss: 34291.95500054749\n"
          ]
        },
        {
          "output_type": "stream",
          "name": "stderr",
          "text": [
            " 50%|█████     | 100/200 [00:57<00:47,  2.10it/s]"
          ]
        },
        {
          "output_type": "stream",
          "name": "stdout",
          "text": [
            "iteration 100, Total Loss: 33940.36858071135\n"
          ]
        },
        {
          "output_type": "stream",
          "name": "stderr",
          "text": [
            " 60%|██████    | 120/200 [01:06<00:37,  2.12it/s]"
          ]
        },
        {
          "output_type": "stream",
          "name": "stdout",
          "text": [
            "iteration 120, Total Loss: 33732.78139237778\n"
          ]
        },
        {
          "output_type": "stream",
          "name": "stderr",
          "text": [
            " 70%|███████   | 140/200 [01:16<00:28,  2.09it/s]"
          ]
        },
        {
          "output_type": "stream",
          "name": "stdout",
          "text": [
            "iteration 140, Total Loss: 33600.52860031865\n"
          ]
        },
        {
          "output_type": "stream",
          "name": "stderr",
          "text": [
            " 80%|████████  | 160/200 [01:25<00:18,  2.12it/s]"
          ]
        },
        {
          "output_type": "stream",
          "name": "stdout",
          "text": [
            "iteration 160, Total Loss: 33511.14614231133\n"
          ]
        },
        {
          "output_type": "stream",
          "name": "stderr",
          "text": [
            " 90%|█████████ | 180/200 [01:35<00:09,  2.12it/s]"
          ]
        },
        {
          "output_type": "stream",
          "name": "stdout",
          "text": [
            "iteration 180, Total Loss: 33447.74757881435\n"
          ]
        },
        {
          "output_type": "stream",
          "name": "stderr",
          "text": [
            "100%|██████████| 200/200 [01:44<00:00,  1.91it/s]"
          ]
        },
        {
          "output_type": "stream",
          "name": "stdout",
          "text": [
            "iteration 200, Total Loss: 33400.91967750449\n"
          ]
        },
        {
          "output_type": "stream",
          "name": "stderr",
          "text": [
            "\n"
          ]
        }
      ]
    },
    {
      "cell_type": "markdown",
      "source": [
        "##Test Set Prediction"
      ],
      "metadata": {
        "id": "NdTfGHHZ37es"
      }
    },
    {
      "cell_type": "markdown",
      "source": [
        "Loss value and Mean Squared Error calculation are made on the test data that the model has not seen before."
      ],
      "metadata": {
        "id": "A70SzIGTifiQ"
      }
    },
    {
      "cell_type": "code",
      "source": [
        "def squareError(y, y_pred):\n",
        "  return (y-y_pred)**2"
      ],
      "metadata": {
        "id": "OtpKrayc90DW"
      },
      "execution_count": 10,
      "outputs": []
    },
    {
      "cell_type": "code",
      "source": [
        "seRegression, lossRegression = [], []\n",
        "for i, j in zip(test_irow, test_jcol):\n",
        "    y = r[i, j]\n",
        "\n",
        "    y_pred = userBias[i] + itemBias[j]\n",
        "    seRegression.append(squareError(y, y_pred))\n",
        "    lossRegression.append(loss(r, userBias, itemBias, i, j))"
      ],
      "metadata": {
        "id": "hvOAlrR34A7W"
      },
      "execution_count": 11,
      "outputs": []
    },
    {
      "cell_type": "code",
      "source": [
        "cons.print(f\"Regression Loss: {np.sum(np.array(lossRegression)):.5f}\")\n",
        "cons.print(f\"Squared Error Regression: {np.sum(np.array(seRegression)):.5f}\")"
      ],
      "metadata": {
        "colab": {
          "base_uri": "https://localhost:8080/",
          "height": 49
        },
        "id": "Q01UaDeY-jWt",
        "outputId": "ca9915ba-8c05-45a4-f44d-c4c928134278"
      },
      "execution_count": 12,
      "outputs": [
        {
          "output_type": "display_data",
          "data": {
            "text/plain": [
              "Regression Loss: \u001b[1;36m8960.62906\u001b[0m\n"
            ],
            "text/html": [
              "<pre style=\"white-space:pre;overflow-x:auto;line-height:normal;font-family:Menlo,'DejaVu Sans Mono',consolas,'Courier New',monospace\">Regression Loss: <span style=\"color: #008080; text-decoration-color: #008080; font-weight: bold\">8960.62906</span>\n",
              "</pre>\n"
            ]
          },
          "metadata": {}
        },
        {
          "output_type": "display_data",
          "data": {
            "text/plain": [
              "Squared Error Regression: \u001b[1;36m17921.25812\u001b[0m\n"
            ],
            "text/html": [
              "<pre style=\"white-space:pre;overflow-x:auto;line-height:normal;font-family:Menlo,'DejaVu Sans Mono',consolas,'Courier New',monospace\">Squared Error Regression: <span style=\"color: #008080; text-decoration-color: #008080; font-weight: bold\">17921.25812</span>\n",
              "</pre>\n"
            ]
          },
          "metadata": {}
        }
      ]
    },
    {
      "cell_type": "markdown",
      "source": [
        "#Regularization Model"
      ],
      "metadata": {
        "id": "u1fiDXXZ8l37"
      }
    },
    {
      "cell_type": "markdown",
      "source": [
        "If we add a Regularization Term to the Loss Function and write a new Loss Function to avoid the risk of overfit:"
      ],
      "metadata": {
        "id": "tkkqz0Eb1DFx"
      }
    },
    {
      "cell_type": "markdown",
      "source": [
        "## Loss Function"
      ],
      "metadata": {
        "id": "KruyTvri2HG2"
      }
    },
    {
      "cell_type": "markdown",
      "source": [
        "$$Loss Function: {\\dfrac{1}{2}} \\sum_{i,j \\in S }  (r_{i,j} - \\hat{r}_{i,j})^2 + {\\dfrac{\\lambda}{2}(\\sum_{i=1}^m (\\beta^{user}_i)^2 + \\sum_{j=1}^n (\\beta^{item}_j)^2) }$$"
      ],
      "metadata": {
        "id": "HsAgBqB80UlE"
      }
    },
    {
      "cell_type": "code",
      "source": [
        "def lossRegularization(r: np.ndarray, userbias: np.ndarray, itembias: np.ndarray, i: int, j: int, lam: float):\n",
        "  return ((r[i, j] - userbias[i] - itembias[j]) ** 2) / 2 + (lam/2) * (userbias[i] ** 2 + itembias[j]**2)"
      ],
      "metadata": {
        "id": "6zbFu8WqwUeY"
      },
      "execution_count": 13,
      "outputs": []
    },
    {
      "cell_type": "markdown",
      "source": [
        "## Gradient"
      ],
      "metadata": {
        "id": "s1b9v2fV2Jmo"
      }
    },
    {
      "cell_type": "markdown",
      "source": [
        "If we take the derivative of the Loss Function with respect to $\\beta^{user}$ to calculate the gradient: <br> <br>\n",
        "\n",
        "$$ \\frac{\\partial L}{\\partial \\beta^{user}} = -\\sum_{i,j \\in S }  (r_{i,j} - \\beta^{user}_i - \\beta^{item}_j) + \\lambda * \\sum_{i=1}^m  \\beta^{user}_i$$"
      ],
      "metadata": {
        "id": "nRNA9vdf5KxJ"
      }
    },
    {
      "cell_type": "markdown",
      "source": [
        "When we derivative the Loss function with respect to $\\beta^{item}$ to calculate the gradient: <br><br>\n",
        "\n",
        "$$\\frac{\\partial L}{\\partial \\beta^{item}} =  -\\sum_{i,j \\in S }  (r_{i,j} - \\beta^{user}_i - \\beta^{item}_j) + \\lambda * \\sum_{j=1}^n  \\beta^{item}_j$$"
      ],
      "metadata": {
        "id": "YKwuTWPc7Ne9"
      }
    },
    {
      "cell_type": "code",
      "source": [
        "def gradientRegularization(r: np.ndarray, userbias: np.ndarray, itembias: np.ndarray, i: int, j: int, lam: float, bias):\n",
        "  return -(r[i, j] - userbias[i] - itembias[j]) + lam * bias"
      ],
      "metadata": {
        "id": "rxstNZHGwsMN"
      },
      "execution_count": 14,
      "outputs": []
    },
    {
      "cell_type": "code",
      "source": [
        "def fitRegularizationModel(r: np.ndarray, userbias: np.ndarray, itembias: np.ndarray, irow: np.ndarray, jcol: np.ndarray, learning_rate = 0.001, lam: float = 0.1, epoch: int = 200) -> np.ndarray:\n",
        "    for t in trange(epoch):\n",
        "        userbias_prev = userbias.copy()\n",
        "        itembias_prev = itembias.copy()\n",
        "        lossArr = []\n",
        "        for i, j in zip(irow, jcol):\n",
        "          if np.isnan(r[i, j]):\n",
        "            continue\n",
        "          lossArr.append(lossRegularization(r, userbias, itembias, i, j, lam))\n",
        "          # Gradient for user\n",
        "          gradientUser = gradientRegularization(r, userbias, itembias, i, j, lam, userbias[i])\n",
        "          # Gradient for item\n",
        "          gradientItem = gradientRegularization(r, userbias, itembias, i, j, lam, itembias[j])\n",
        "          # Stochastic Gradient Descent\n",
        "          userbias[i] = userbias[i] - learning_rate * gradientUser\n",
        "          itembias[j] = itembias[j] - learning_rate * gradientItem\n",
        "          \n",
        "        if (t+1) % 20 == 0:\n",
        "          print(f\"iteration {t+1}, Total Loss: {np.sum(lossArr)}\")\n",
        "        if np.linalg.norm(userbias - userbias_prev) < 0.001 or np.linalg.norm(itembias - itembias_prev) < 0.001:\n",
        "            print(f\"I do early stopping at iteration {t+1}\")\n",
        "            break\n",
        "            \n",
        "    return userbias, itembias"
      ],
      "metadata": {
        "id": "wUQ2oYfeVvlZ"
      },
      "execution_count": 15,
      "outputs": []
    },
    {
      "cell_type": "markdown",
      "source": [
        "## Train-Validation Split"
      ],
      "metadata": {
        "id": "suF_k68N2Nzu"
      }
    },
    {
      "cell_type": "markdown",
      "source": [
        "When doing lambda optimization, the train set is divided into train set and validation set. Trained models are tested on validation set."
      ],
      "metadata": {
        "id": "eyxcfHPB8UBG"
      }
    },
    {
      "cell_type": "code",
      "source": [
        "r_trainReg, irowReg, jcolReg, val_irow, val_jcol = train_test_split(r_train, 0.1)"
      ],
      "metadata": {
        "colab": {
          "base_uri": "https://localhost:8080/",
          "height": 33
        },
        "id": "SCjvN-vqbiCD",
        "outputId": "f3ee8fdc-3f16-4d46-de74-50ca1caa015a"
      },
      "execution_count": 16,
      "outputs": [
        {
          "output_type": "display_data",
          "data": {
            "text/plain": [
              "\u001b[1;36m80000\u001b[0m entries available\n"
            ],
            "text/html": [
              "<pre style=\"white-space:pre;overflow-x:auto;line-height:normal;font-family:Menlo,'DejaVu Sans Mono',consolas,'Courier New',monospace\"><span style=\"color: #008080; text-decoration-color: #008080; font-weight: bold\">80000</span> entries available\n",
              "</pre>\n"
            ]
          },
          "metadata": {}
        }
      ]
    },
    {
      "cell_type": "code",
      "source": [
        "print(f\"Number of entries available in Train Set {len(np.where(~np.isnan(r_trainReg))[0])}\")"
      ],
      "metadata": {
        "colab": {
          "base_uri": "https://localhost:8080/"
        },
        "id": "WIhnYhpADvGG",
        "outputId": "e85b8cac-d2db-4a6a-cf2f-e9d53f0551cc"
      },
      "execution_count": 17,
      "outputs": [
        {
          "output_type": "stream",
          "name": "stdout",
          "text": [
            "Number of entries available in Train Set 72000\n"
          ]
        }
      ]
    },
    {
      "cell_type": "code",
      "source": [
        "print(f\"Number of entries available in Validation Set {len(val_irow)}\")"
      ],
      "metadata": {
        "colab": {
          "base_uri": "https://localhost:8080/"
        },
        "id": "kYEnTVjMDm4U",
        "outputId": "d77b3799-890f-4d6c-94de-66b9eaf8b0fd"
      },
      "execution_count": 18,
      "outputs": [
        {
          "output_type": "stream",
          "name": "stdout",
          "text": [
            "Number of entries available in Validation Set 8000\n"
          ]
        }
      ]
    },
    {
      "cell_type": "markdown",
      "source": [
        "## Lambda Optimization"
      ],
      "metadata": {
        "id": "jR9mtr9xC9xg"
      }
    },
    {
      "cell_type": "markdown",
      "source": [
        "Models are created with different lambda values. The performance of the models is tested on the validation set."
      ],
      "metadata": {
        "id": "P4Pb_cGPgg2a"
      }
    },
    {
      "cell_type": "code",
      "source": [
        "lamArr = np.linspace(0.1, 0.5, 9)"
      ],
      "metadata": {
        "id": "GBIXXkBXgjdE"
      },
      "execution_count": 19,
      "outputs": []
    },
    {
      "cell_type": "code",
      "source": [
        "lossSumLam = []\n",
        "\n",
        "for lam in lamArr:\n",
        "  lossLam = []\n",
        "  print(\"\\nLambda: \", str(lam), \"\\n\")\n",
        "  userBiasReg, itemBiasReg = np.random.rand(r.shape[0]), np.random.rand(r.shape[1])\n",
        "  userBiasReg, itemBiasReg = fitRegularizationModel(r_trainReg, userBiasReg, itemBiasReg, irowReg, jcolReg, learning_rate = 0.001, lam = lam)\n",
        "  for i, j in zip(val_irow, val_jcol):\n",
        "    lossLam.append(lossRegularization(r, userBiasReg, itemBiasReg, i, j, lam))\n",
        "    #lossLam.append((((r[i, j] - userBiasReg[i] - itemBiasReg[j]) ** 2) / 2))\n",
        "  lossSumLam.append(np.sum(np.array(lossLam)))"
      ],
      "metadata": {
        "id": "fxUQZYjcDEnm",
        "colab": {
          "base_uri": "https://localhost:8080/"
        },
        "outputId": "960ba599-3202-40bb-b097-d792c7e25954"
      },
      "execution_count": 20,
      "outputs": [
        {
          "output_type": "stream",
          "name": "stdout",
          "text": [
            "\n",
            "Lambda:  0.1 \n",
            "\n"
          ]
        },
        {
          "output_type": "stream",
          "name": "stderr",
          "text": [
            " 10%|█         | 20/200 [00:11<01:55,  1.56it/s]"
          ]
        },
        {
          "output_type": "stream",
          "name": "stdout",
          "text": [
            "iteration 20, Total Loss: 59551.023788697756\n"
          ]
        },
        {
          "output_type": "stream",
          "name": "stderr",
          "text": [
            " 20%|██        | 40/200 [00:24<01:33,  1.71it/s]"
          ]
        },
        {
          "output_type": "stream",
          "name": "stdout",
          "text": [
            "iteration 40, Total Loss: 55357.959202027014\n"
          ]
        },
        {
          "output_type": "stream",
          "name": "stderr",
          "text": [
            " 30%|███       | 60/200 [00:36<01:21,  1.71it/s]"
          ]
        },
        {
          "output_type": "stream",
          "name": "stdout",
          "text": [
            "iteration 60, Total Loss: 54075.31361247855\n"
          ]
        },
        {
          "output_type": "stream",
          "name": "stderr",
          "text": [
            " 40%|████      | 80/200 [00:47<01:09,  1.71it/s]"
          ]
        },
        {
          "output_type": "stream",
          "name": "stdout",
          "text": [
            "iteration 80, Total Loss: 53512.41176764875\n"
          ]
        },
        {
          "output_type": "stream",
          "name": "stderr",
          "text": [
            " 50%|█████     | 100/200 [00:59<00:58,  1.72it/s]"
          ]
        },
        {
          "output_type": "stream",
          "name": "stdout",
          "text": [
            "iteration 100, Total Loss: 53218.95326204623\n"
          ]
        },
        {
          "output_type": "stream",
          "name": "stderr",
          "text": [
            " 60%|██████    | 120/200 [01:10<00:46,  1.72it/s]"
          ]
        },
        {
          "output_type": "stream",
          "name": "stdout",
          "text": [
            "iteration 120, Total Loss: 53048.308193652345\n"
          ]
        },
        {
          "output_type": "stream",
          "name": "stderr",
          "text": [
            " 70%|███████   | 140/200 [01:22<00:34,  1.72it/s]"
          ]
        },
        {
          "output_type": "stream",
          "name": "stdout",
          "text": [
            "iteration 140, Total Loss: 52940.818300100516\n"
          ]
        },
        {
          "output_type": "stream",
          "name": "stderr",
          "text": [
            " 80%|████████  | 160/200 [01:34<00:23,  1.71it/s]"
          ]
        },
        {
          "output_type": "stream",
          "name": "stdout",
          "text": [
            "iteration 160, Total Loss: 52868.653640135104\n"
          ]
        },
        {
          "output_type": "stream",
          "name": "stderr",
          "text": [
            " 90%|█████████ | 180/200 [01:45<00:11,  1.73it/s]"
          ]
        },
        {
          "output_type": "stream",
          "name": "stdout",
          "text": [
            "iteration 180, Total Loss: 52817.56714366079\n"
          ]
        },
        {
          "output_type": "stream",
          "name": "stderr",
          "text": [
            "100%|██████████| 200/200 [01:57<00:00,  1.70it/s]\n"
          ]
        },
        {
          "output_type": "stream",
          "name": "stdout",
          "text": [
            "iteration 200, Total Loss: 52779.74766705319\n",
            "\n",
            "Lambda:  0.15000000000000002 \n",
            "\n"
          ]
        },
        {
          "output_type": "stream",
          "name": "stderr",
          "text": [
            " 10%|█         | 20/200 [00:11<01:45,  1.70it/s]"
          ]
        },
        {
          "output_type": "stream",
          "name": "stdout",
          "text": [
            "iteration 20, Total Loss: 69606.07957854067\n"
          ]
        },
        {
          "output_type": "stream",
          "name": "stderr",
          "text": [
            " 20%|██        | 40/200 [00:23<01:32,  1.73it/s]"
          ]
        },
        {
          "output_type": "stream",
          "name": "stdout",
          "text": [
            "iteration 40, Total Loss: 65638.41442236725\n"
          ]
        },
        {
          "output_type": "stream",
          "name": "stderr",
          "text": [
            " 30%|███       | 60/200 [00:34<01:22,  1.70it/s]"
          ]
        },
        {
          "output_type": "stream",
          "name": "stdout",
          "text": [
            "iteration 60, Total Loss: 64467.889001200834\n"
          ]
        },
        {
          "output_type": "stream",
          "name": "stderr",
          "text": [
            " 40%|████      | 80/200 [00:46<01:09,  1.73it/s]"
          ]
        },
        {
          "output_type": "stream",
          "name": "stdout",
          "text": [
            "iteration 80, Total Loss: 63964.105769555455\n"
          ]
        },
        {
          "output_type": "stream",
          "name": "stderr",
          "text": [
            " 50%|█████     | 100/200 [00:58<00:58,  1.71it/s]"
          ]
        },
        {
          "output_type": "stream",
          "name": "stdout",
          "text": [
            "iteration 100, Total Loss: 63703.867178512395\n"
          ]
        },
        {
          "output_type": "stream",
          "name": "stderr",
          "text": [
            " 60%|██████    | 120/200 [01:09<00:46,  1.72it/s]"
          ]
        },
        {
          "output_type": "stream",
          "name": "stdout",
          "text": [
            "iteration 120, Total Loss: 63552.878041912554\n"
          ]
        },
        {
          "output_type": "stream",
          "name": "stderr",
          "text": [
            " 70%|███████   | 140/200 [01:21<00:34,  1.71it/s]"
          ]
        },
        {
          "output_type": "stream",
          "name": "stdout",
          "text": [
            "iteration 140, Total Loss: 63457.505107864185\n"
          ]
        },
        {
          "output_type": "stream",
          "name": "stderr",
          "text": [
            " 80%|████████  | 160/200 [01:33<00:23,  1.71it/s]"
          ]
        },
        {
          "output_type": "stream",
          "name": "stdout",
          "text": [
            "iteration 160, Total Loss: 63393.07281631183\n"
          ]
        },
        {
          "output_type": "stream",
          "name": "stderr",
          "text": [
            " 90%|█████████ | 180/200 [01:45<00:12,  1.60it/s]"
          ]
        },
        {
          "output_type": "stream",
          "name": "stdout",
          "text": [
            "iteration 180, Total Loss: 63347.0770979919\n"
          ]
        },
        {
          "output_type": "stream",
          "name": "stderr",
          "text": [
            "100%|██████████| 200/200 [01:58<00:00,  1.69it/s]\n"
          ]
        },
        {
          "output_type": "stream",
          "name": "stdout",
          "text": [
            "iteration 200, Total Loss: 63312.71200708054\n",
            "\n",
            "Lambda:  0.2 \n",
            "\n"
          ]
        },
        {
          "output_type": "stream",
          "name": "stderr",
          "text": [
            " 10%|█         | 20/200 [00:11<01:46,  1.69it/s]"
          ]
        },
        {
          "output_type": "stream",
          "name": "stdout",
          "text": [
            "iteration 20, Total Loss: 79143.17431719048\n"
          ]
        },
        {
          "output_type": "stream",
          "name": "stderr",
          "text": [
            " 20%|██        | 40/200 [00:23<01:34,  1.70it/s]"
          ]
        },
        {
          "output_type": "stream",
          "name": "stdout",
          "text": [
            "iteration 40, Total Loss: 75473.36423161089\n"
          ]
        },
        {
          "output_type": "stream",
          "name": "stderr",
          "text": [
            " 30%|███       | 60/200 [00:35<01:22,  1.71it/s]"
          ]
        },
        {
          "output_type": "stream",
          "name": "stdout",
          "text": [
            "iteration 60, Total Loss: 74392.23155338595\n"
          ]
        },
        {
          "output_type": "stream",
          "name": "stderr",
          "text": [
            " 40%|████      | 80/200 [00:46<01:09,  1.72it/s]"
          ]
        },
        {
          "output_type": "stream",
          "name": "stdout",
          "text": [
            "iteration 80, Total Loss: 73932.22098911248\n"
          ]
        },
        {
          "output_type": "stream",
          "name": "stderr",
          "text": [
            " 50%|█████     | 100/200 [00:58<00:58,  1.70it/s]"
          ]
        },
        {
          "output_type": "stream",
          "name": "stdout",
          "text": [
            "iteration 100, Total Loss: 73697.8544835627\n"
          ]
        },
        {
          "output_type": "stream",
          "name": "stderr",
          "text": [
            " 60%|██████    | 120/200 [01:10<00:47,  1.69it/s]"
          ]
        },
        {
          "output_type": "stream",
          "name": "stdout",
          "text": [
            "iteration 120, Total Loss: 73563.19667264601\n"
          ]
        },
        {
          "output_type": "stream",
          "name": "stderr",
          "text": [
            " 70%|███████   | 140/200 [01:21<00:35,  1.71it/s]"
          ]
        },
        {
          "output_type": "stream",
          "name": "stdout",
          "text": [
            "iteration 140, Total Loss: 73478.4024626204\n"
          ]
        },
        {
          "output_type": "stream",
          "name": "stderr",
          "text": [
            " 80%|████████  | 160/200 [01:33<00:23,  1.71it/s]"
          ]
        },
        {
          "output_type": "stream",
          "name": "stdout",
          "text": [
            "iteration 160, Total Loss: 73420.91878168755\n"
          ]
        },
        {
          "output_type": "stream",
          "name": "stderr",
          "text": [
            " 90%|█████████ | 180/200 [01:45<00:11,  1.71it/s]"
          ]
        },
        {
          "output_type": "stream",
          "name": "stdout",
          "text": [
            "iteration 180, Total Loss: 73379.5390975588\n"
          ]
        },
        {
          "output_type": "stream",
          "name": "stderr",
          "text": [
            "100%|██████████| 200/200 [01:56<00:00,  1.71it/s]\n"
          ]
        },
        {
          "output_type": "stream",
          "name": "stdout",
          "text": [
            "iteration 200, Total Loss: 73348.27814059437\n",
            "\n",
            "Lambda:  0.25 \n",
            "\n"
          ]
        },
        {
          "output_type": "stream",
          "name": "stderr",
          "text": [
            " 10%|█         | 20/200 [00:11<01:46,  1.69it/s]"
          ]
        },
        {
          "output_type": "stream",
          "name": "stdout",
          "text": [
            "iteration 20, Total Loss: 88596.46457382498\n"
          ]
        },
        {
          "output_type": "stream",
          "name": "stderr",
          "text": [
            " 20%|██        | 40/200 [00:23<01:33,  1.71it/s]"
          ]
        },
        {
          "output_type": "stream",
          "name": "stdout",
          "text": [
            "iteration 40, Total Loss: 84921.39708813276\n"
          ]
        },
        {
          "output_type": "stream",
          "name": "stderr",
          "text": [
            " 30%|███       | 60/200 [00:34<01:22,  1.70it/s]"
          ]
        },
        {
          "output_type": "stream",
          "name": "stdout",
          "text": [
            "iteration 60, Total Loss: 83868.59355316855\n"
          ]
        },
        {
          "output_type": "stream",
          "name": "stderr",
          "text": [
            " 40%|████      | 80/200 [00:46<01:10,  1.71it/s]"
          ]
        },
        {
          "output_type": "stream",
          "name": "stdout",
          "text": [
            "iteration 80, Total Loss: 83432.4866030714\n"
          ]
        },
        {
          "output_type": "stream",
          "name": "stderr",
          "text": [
            " 50%|█████     | 100/200 [00:58<00:58,  1.72it/s]"
          ]
        },
        {
          "output_type": "stream",
          "name": "stdout",
          "text": [
            "iteration 100, Total Loss: 83214.47976887668\n"
          ]
        },
        {
          "output_type": "stream",
          "name": "stderr",
          "text": [
            " 60%|██████    | 120/200 [01:09<00:46,  1.71it/s]"
          ]
        },
        {
          "output_type": "stream",
          "name": "stdout",
          "text": [
            "iteration 120, Total Loss: 83090.93385699412\n"
          ]
        },
        {
          "output_type": "stream",
          "name": "stderr",
          "text": [
            " 70%|███████   | 140/200 [01:21<00:34,  1.72it/s]"
          ]
        },
        {
          "output_type": "stream",
          "name": "stdout",
          "text": [
            "iteration 140, Total Loss: 83013.9081593186\n"
          ]
        },
        {
          "output_type": "stream",
          "name": "stderr",
          "text": [
            " 80%|████████  | 160/200 [01:33<00:23,  1.72it/s]"
          ]
        },
        {
          "output_type": "stream",
          "name": "stdout",
          "text": [
            "iteration 160, Total Loss: 82962.0565572579\n"
          ]
        },
        {
          "output_type": "stream",
          "name": "stderr",
          "text": [
            " 90%|█████████ | 180/200 [01:44<00:11,  1.71it/s]"
          ]
        },
        {
          "output_type": "stream",
          "name": "stdout",
          "text": [
            "iteration 180, Total Loss: 82924.91701530264\n"
          ]
        },
        {
          "output_type": "stream",
          "name": "stderr",
          "text": [
            "100%|██████████| 200/200 [01:56<00:00,  1.72it/s]\n"
          ]
        },
        {
          "output_type": "stream",
          "name": "stdout",
          "text": [
            "iteration 200, Total Loss: 82896.96769823217\n",
            "\n",
            "Lambda:  0.30000000000000004 \n",
            "\n"
          ]
        },
        {
          "output_type": "stream",
          "name": "stderr",
          "text": [
            " 10%|█         | 20/200 [00:11<01:44,  1.72it/s]"
          ]
        },
        {
          "output_type": "stream",
          "name": "stdout",
          "text": [
            "iteration 20, Total Loss: 97208.1560183393\n"
          ]
        },
        {
          "output_type": "stream",
          "name": "stderr",
          "text": [
            " 20%|██        | 40/200 [00:23<01:34,  1.70it/s]"
          ]
        },
        {
          "output_type": "stream",
          "name": "stdout",
          "text": [
            "iteration 40, Total Loss: 93835.73793340818\n"
          ]
        },
        {
          "output_type": "stream",
          "name": "stderr",
          "text": [
            " 30%|███       | 60/200 [00:35<01:22,  1.70it/s]"
          ]
        },
        {
          "output_type": "stream",
          "name": "stdout",
          "text": [
            "iteration 60, Total Loss: 92883.18345765758\n"
          ]
        },
        {
          "output_type": "stream",
          "name": "stderr",
          "text": [
            " 40%|████      | 80/200 [00:46<01:09,  1.72it/s]"
          ]
        },
        {
          "output_type": "stream",
          "name": "stdout",
          "text": [
            "iteration 80, Total Loss: 92494.93939971313\n"
          ]
        },
        {
          "output_type": "stream",
          "name": "stderr",
          "text": [
            " 50%|█████     | 100/200 [00:58<00:58,  1.71it/s]"
          ]
        },
        {
          "output_type": "stream",
          "name": "stdout",
          "text": [
            "iteration 100, Total Loss: 92303.76959240416\n"
          ]
        },
        {
          "output_type": "stream",
          "name": "stderr",
          "text": [
            " 60%|██████    | 120/200 [01:10<00:47,  1.69it/s]"
          ]
        },
        {
          "output_type": "stream",
          "name": "stdout",
          "text": [
            "iteration 120, Total Loss: 92196.38428025093\n"
          ]
        },
        {
          "output_type": "stream",
          "name": "stderr",
          "text": [
            " 70%|███████   | 140/200 [01:21<00:35,  1.70it/s]"
          ]
        },
        {
          "output_type": "stream",
          "name": "stdout",
          "text": [
            "iteration 140, Total Loss: 92129.48795320767\n"
          ]
        },
        {
          "output_type": "stream",
          "name": "stderr",
          "text": [
            " 80%|████████  | 160/200 [01:33<00:23,  1.68it/s]"
          ]
        },
        {
          "output_type": "stream",
          "name": "stdout",
          "text": [
            "iteration 160, Total Loss: 92084.18651456673\n"
          ]
        },
        {
          "output_type": "stream",
          "name": "stderr",
          "text": [
            " 90%|█████████ | 180/200 [01:45<00:11,  1.72it/s]"
          ]
        },
        {
          "output_type": "stream",
          "name": "stdout",
          "text": [
            "iteration 180, Total Loss: 92051.41047607076\n"
          ]
        },
        {
          "output_type": "stream",
          "name": "stderr",
          "text": [
            "100%|██████████| 200/200 [01:57<00:00,  1.71it/s]\n"
          ]
        },
        {
          "output_type": "stream",
          "name": "stdout",
          "text": [
            "iteration 200, Total Loss: 92026.45727016902\n",
            "\n",
            "Lambda:  0.35 \n",
            "\n"
          ]
        },
        {
          "output_type": "stream",
          "name": "stderr",
          "text": [
            " 10%|█         | 20/200 [00:11<01:44,  1.72it/s]"
          ]
        },
        {
          "output_type": "stream",
          "name": "stdout",
          "text": [
            "iteration 20, Total Loss: 105584.3745925198\n"
          ]
        },
        {
          "output_type": "stream",
          "name": "stderr",
          "text": [
            " 20%|██        | 40/200 [00:23<01:32,  1.73it/s]"
          ]
        },
        {
          "output_type": "stream",
          "name": "stdout",
          "text": [
            "iteration 40, Total Loss: 102410.3025677489\n"
          ]
        },
        {
          "output_type": "stream",
          "name": "stderr",
          "text": [
            " 30%|███       | 60/200 [00:35<01:21,  1.71it/s]"
          ]
        },
        {
          "output_type": "stream",
          "name": "stdout",
          "text": [
            "iteration 60, Total Loss: 101526.15346829695\n"
          ]
        },
        {
          "output_type": "stream",
          "name": "stderr",
          "text": [
            " 40%|████      | 80/200 [00:46<01:10,  1.70it/s]"
          ]
        },
        {
          "output_type": "stream",
          "name": "stdout",
          "text": [
            "iteration 80, Total Loss: 101169.52808648397\n"
          ]
        },
        {
          "output_type": "stream",
          "name": "stderr",
          "text": [
            " 50%|█████     | 100/200 [00:58<00:58,  1.71it/s]"
          ]
        },
        {
          "output_type": "stream",
          "name": "stdout",
          "text": [
            "iteration 100, Total Loss: 100994.84941804568\n"
          ]
        },
        {
          "output_type": "stream",
          "name": "stderr",
          "text": [
            " 60%|██████    | 120/200 [01:10<00:46,  1.71it/s]"
          ]
        },
        {
          "output_type": "stream",
          "name": "stdout",
          "text": [
            "iteration 120, Total Loss: 100896.82933422073\n"
          ]
        },
        {
          "output_type": "stream",
          "name": "stderr",
          "text": [
            " 70%|███████   | 140/200 [01:21<00:35,  1.70it/s]"
          ]
        },
        {
          "output_type": "stream",
          "name": "stdout",
          "text": [
            "iteration 140, Total Loss: 100835.67887477383\n"
          ]
        },
        {
          "output_type": "stream",
          "name": "stderr",
          "text": [
            " 80%|████████  | 160/200 [01:33<00:23,  1.72it/s]"
          ]
        },
        {
          "output_type": "stream",
          "name": "stdout",
          "text": [
            "iteration 160, Total Loss: 100794.19512603372\n"
          ]
        },
        {
          "output_type": "stream",
          "name": "stderr",
          "text": [
            " 90%|█████████ | 180/200 [01:45<00:11,  1.71it/s]"
          ]
        },
        {
          "output_type": "stream",
          "name": "stdout",
          "text": [
            "iteration 180, Total Loss: 100764.16687908616\n"
          ]
        },
        {
          "output_type": "stream",
          "name": "stderr",
          "text": [
            "100%|██████████| 200/200 [01:56<00:00,  1.71it/s]\n"
          ]
        },
        {
          "output_type": "stream",
          "name": "stdout",
          "text": [
            "iteration 200, Total Loss: 100741.3398797222\n",
            "\n",
            "Lambda:  0.4 \n",
            "\n"
          ]
        },
        {
          "output_type": "stream",
          "name": "stderr",
          "text": [
            " 10%|█         | 20/200 [00:11<01:44,  1.72it/s]"
          ]
        },
        {
          "output_type": "stream",
          "name": "stdout",
          "text": [
            "iteration 20, Total Loss: 113730.05419493662\n"
          ]
        },
        {
          "output_type": "stream",
          "name": "stderr",
          "text": [
            " 20%|██        | 40/200 [00:23<01:34,  1.70it/s]"
          ]
        },
        {
          "output_type": "stream",
          "name": "stdout",
          "text": [
            "iteration 40, Total Loss: 110664.00850400458\n"
          ]
        },
        {
          "output_type": "stream",
          "name": "stderr",
          "text": [
            " 30%|███       | 60/200 [00:35<01:22,  1.70it/s]"
          ]
        },
        {
          "output_type": "stream",
          "name": "stdout",
          "text": [
            "iteration 60, Total Loss: 109828.34115879268\n"
          ]
        },
        {
          "output_type": "stream",
          "name": "stderr",
          "text": [
            " 40%|████      | 80/200 [00:46<01:10,  1.70it/s]"
          ]
        },
        {
          "output_type": "stream",
          "name": "stdout",
          "text": [
            "iteration 80, Total Loss: 109495.02399152367\n"
          ]
        },
        {
          "output_type": "stream",
          "name": "stderr",
          "text": [
            " 50%|█████     | 100/200 [00:58<00:58,  1.71it/s]"
          ]
        },
        {
          "output_type": "stream",
          "name": "stdout",
          "text": [
            "iteration 100, Total Loss: 109332.25992251106\n"
          ]
        },
        {
          "output_type": "stream",
          "name": "stderr",
          "text": [
            " 60%|██████    | 120/200 [01:10<00:47,  1.70it/s]"
          ]
        },
        {
          "output_type": "stream",
          "name": "stdout",
          "text": [
            "iteration 120, Total Loss: 109240.65494291896\n"
          ]
        },
        {
          "output_type": "stream",
          "name": "stderr",
          "text": [
            " 70%|███████   | 140/200 [01:21<00:34,  1.71it/s]"
          ]
        },
        {
          "output_type": "stream",
          "name": "stdout",
          "text": [
            "iteration 140, Total Loss: 109183.12667061333\n"
          ]
        },
        {
          "output_type": "stream",
          "name": "stderr",
          "text": [
            " 80%|████████  | 160/200 [01:33<00:23,  1.72it/s]"
          ]
        },
        {
          "output_type": "stream",
          "name": "stdout",
          "text": [
            "iteration 160, Total Loss: 109143.79279547499\n"
          ]
        },
        {
          "output_type": "stream",
          "name": "stderr",
          "text": [
            " 90%|█████████ | 180/200 [01:45<00:11,  1.69it/s]"
          ]
        },
        {
          "output_type": "stream",
          "name": "stdout",
          "text": [
            "iteration 180, Total Loss: 109115.11432449316\n"
          ]
        },
        {
          "output_type": "stream",
          "name": "stderr",
          "text": [
            "100%|██████████| 200/200 [01:56<00:00,  1.71it/s]\n"
          ]
        },
        {
          "output_type": "stream",
          "name": "stdout",
          "text": [
            "iteration 200, Total Loss: 109093.18892398599\n",
            "\n",
            "Lambda:  0.45000000000000007 \n",
            "\n"
          ]
        },
        {
          "output_type": "stream",
          "name": "stderr",
          "text": [
            " 10%|█         | 20/200 [00:11<01:45,  1.71it/s]"
          ]
        },
        {
          "output_type": "stream",
          "name": "stdout",
          "text": [
            "iteration 20, Total Loss: 121227.00476703508\n"
          ]
        },
        {
          "output_type": "stream",
          "name": "stderr",
          "text": [
            " 20%|██        | 40/200 [00:25<01:35,  1.67it/s]"
          ]
        },
        {
          "output_type": "stream",
          "name": "stdout",
          "text": [
            "iteration 40, Total Loss: 118457.31984242497\n"
          ]
        },
        {
          "output_type": "stream",
          "name": "stderr",
          "text": [
            " 30%|███       | 60/200 [00:36<01:22,  1.69it/s]"
          ]
        },
        {
          "output_type": "stream",
          "name": "stdout",
          "text": [
            "iteration 60, Total Loss: 117734.34147994965\n"
          ]
        },
        {
          "output_type": "stream",
          "name": "stderr",
          "text": [
            " 40%|████      | 80/200 [00:48<01:10,  1.71it/s]"
          ]
        },
        {
          "output_type": "stream",
          "name": "stdout",
          "text": [
            "iteration 80, Total Loss: 117451.00682093044\n"
          ]
        },
        {
          "output_type": "stream",
          "name": "stderr",
          "text": [
            " 50%|█████     | 100/200 [01:00<00:58,  1.71it/s]"
          ]
        },
        {
          "output_type": "stream",
          "name": "stdout",
          "text": [
            "iteration 100, Total Loss: 117311.96835770734\n"
          ]
        },
        {
          "output_type": "stream",
          "name": "stderr",
          "text": [
            " 60%|██████    | 120/200 [01:11<00:46,  1.71it/s]"
          ]
        },
        {
          "output_type": "stream",
          "name": "stdout",
          "text": [
            "iteration 120, Total Loss: 117232.10178366266\n"
          ]
        },
        {
          "output_type": "stream",
          "name": "stderr",
          "text": [
            " 70%|███████   | 140/200 [01:23<00:35,  1.71it/s]"
          ]
        },
        {
          "output_type": "stream",
          "name": "stdout",
          "text": [
            "iteration 140, Total Loss: 117180.57112136038\n"
          ]
        },
        {
          "output_type": "stream",
          "name": "stderr",
          "text": [
            " 80%|████████  | 160/200 [01:35<00:23,  1.71it/s]"
          ]
        },
        {
          "output_type": "stream",
          "name": "stdout",
          "text": [
            "iteration 160, Total Loss: 117144.38753108124\n"
          ]
        },
        {
          "output_type": "stream",
          "name": "stderr",
          "text": [
            " 90%|█████████ | 180/200 [01:46<00:11,  1.70it/s]"
          ]
        },
        {
          "output_type": "stream",
          "name": "stdout",
          "text": [
            "iteration 180, Total Loss: 117117.40358648967\n"
          ]
        },
        {
          "output_type": "stream",
          "name": "stderr",
          "text": [
            "100%|██████████| 200/200 [01:58<00:00,  1.69it/s]\n"
          ]
        },
        {
          "output_type": "stream",
          "name": "stdout",
          "text": [
            "iteration 200, Total Loss: 117096.40710858075\n",
            "\n",
            "Lambda:  0.5 \n",
            "\n"
          ]
        },
        {
          "output_type": "stream",
          "name": "stderr",
          "text": [
            " 10%|█         | 20/200 [00:11<01:45,  1.71it/s]"
          ]
        },
        {
          "output_type": "stream",
          "name": "stdout",
          "text": [
            "iteration 20, Total Loss: 128818.7860164047\n"
          ]
        },
        {
          "output_type": "stream",
          "name": "stderr",
          "text": [
            " 20%|██        | 40/200 [00:23<01:33,  1.71it/s]"
          ]
        },
        {
          "output_type": "stream",
          "name": "stdout",
          "text": [
            "iteration 40, Total Loss: 126080.1808009287\n"
          ]
        },
        {
          "output_type": "stream",
          "name": "stderr",
          "text": [
            " 30%|███       | 60/200 [00:34<01:21,  1.71it/s]"
          ]
        },
        {
          "output_type": "stream",
          "name": "stdout",
          "text": [
            "iteration 60, Total Loss: 125367.94756530576\n"
          ]
        },
        {
          "output_type": "stream",
          "name": "stderr",
          "text": [
            " 40%|████      | 80/200 [00:46<01:10,  1.71it/s]"
          ]
        },
        {
          "output_type": "stream",
          "name": "stdout",
          "text": [
            "iteration 80, Total Loss: 125089.6265294311\n"
          ]
        },
        {
          "output_type": "stream",
          "name": "stderr",
          "text": [
            " 50%|█████     | 100/200 [00:58<00:58,  1.71it/s]"
          ]
        },
        {
          "output_type": "stream",
          "name": "stdout",
          "text": [
            "iteration 100, Total Loss: 124953.92605464529\n"
          ]
        },
        {
          "output_type": "stream",
          "name": "stderr",
          "text": [
            " 60%|██████    | 120/200 [01:10<00:47,  1.69it/s]"
          ]
        },
        {
          "output_type": "stream",
          "name": "stdout",
          "text": [
            "iteration 120, Total Loss: 124876.84729486902\n"
          ]
        },
        {
          "output_type": "stream",
          "name": "stderr",
          "text": [
            " 70%|███████   | 140/200 [01:21<00:34,  1.72it/s]"
          ]
        },
        {
          "output_type": "stream",
          "name": "stdout",
          "text": [
            "iteration 140, Total Loss: 124827.82131755965\n"
          ]
        },
        {
          "output_type": "stream",
          "name": "stderr",
          "text": [
            " 80%|████████  | 160/200 [01:33<00:23,  1.70it/s]"
          ]
        },
        {
          "output_type": "stream",
          "name": "stdout",
          "text": [
            "iteration 160, Total Loss: 124793.92016583387\n"
          ]
        },
        {
          "output_type": "stream",
          "name": "stderr",
          "text": [
            " 90%|█████████ | 180/200 [01:45<00:11,  1.71it/s]"
          ]
        },
        {
          "output_type": "stream",
          "name": "stdout",
          "text": [
            "iteration 180, Total Loss: 124769.01333955748\n"
          ]
        },
        {
          "output_type": "stream",
          "name": "stderr",
          "text": [
            "100%|██████████| 200/200 [01:56<00:00,  1.71it/s]"
          ]
        },
        {
          "output_type": "stream",
          "name": "stdout",
          "text": [
            "iteration 200, Total Loss: 124749.8989546836\n"
          ]
        },
        {
          "output_type": "stream",
          "name": "stderr",
          "text": [
            "\n"
          ]
        }
      ]
    },
    {
      "cell_type": "markdown",
      "source": [
        "Loss Values obtained on the performance validation set of the models"
      ],
      "metadata": {
        "id": "0otti8FZJW2u"
      }
    },
    {
      "cell_type": "code",
      "source": [
        "lossSumLam"
      ],
      "metadata": {
        "colab": {
          "base_uri": "https://localhost:8080/"
        },
        "id": "lUwObWGIWeGV",
        "outputId": "a65d20fe-abb9-44e4-c853-1b20d16473e8"
      },
      "execution_count": 21,
      "outputs": [
        {
          "output_type": "execute_result",
          "data": {
            "text/plain": [
              "[6045.054248677402,\n",
              " 7213.971151058487,\n",
              " 8323.022853815964,\n",
              " 9381.672619250588,\n",
              " 10392.168820094794,\n",
              " 11359.770812520886,\n",
              " 12286.95144942747,\n",
              " 13170.059167386002,\n",
              " 14021.812989160091]"
            ]
          },
          "metadata": {},
          "execution_count": 21
        }
      ]
    },
    {
      "cell_type": "markdown",
      "source": [
        "The Lambda value that provides the Minimum Loss is selected."
      ],
      "metadata": {
        "id": "OXxTQo3KgqHd"
      }
    },
    {
      "cell_type": "code",
      "source": [
        "optimalLam = lamArr[np.argsort(lossSumLam)[0]]"
      ],
      "metadata": {
        "id": "bY3yQbSfMgS9"
      },
      "execution_count": 22,
      "outputs": []
    },
    {
      "cell_type": "markdown",
      "source": [
        "## Final Regularized Model"
      ],
      "metadata": {
        "id": "eqUjInYu2Who"
      }
    },
    {
      "cell_type": "markdown",
      "source": [
        "Train and Validation sets are trained together with the selected Lambda."
      ],
      "metadata": {
        "id": "kwEzJNJNJsLs"
      }
    },
    {
      "cell_type": "code",
      "source": [
        "userBiasReg, itemBiasReg = np.random.rand(r.shape[0]), np.random.rand(r.shape[1])\n",
        "userBiasReg, itemBiasReg = fitRegularizationModel(r_train, userBiasReg, itemBiasReg, irow, jcol, lam = optimalLam)"
      ],
      "metadata": {
        "colab": {
          "base_uri": "https://localhost:8080/"
        },
        "id": "srxG0Dj1cd-Q",
        "outputId": "580d5a2c-f289-4efa-84aa-d2dbb86e07e7"
      },
      "execution_count": 23,
      "outputs": [
        {
          "output_type": "stream",
          "name": "stderr",
          "text": [
            " 10%|█         | 20/200 [00:13<02:02,  1.47it/s]"
          ]
        },
        {
          "output_type": "stream",
          "name": "stdout",
          "text": [
            "iteration 20, Total Loss: 65491.96670319197\n"
          ]
        },
        {
          "output_type": "stream",
          "name": "stderr",
          "text": [
            " 20%|██        | 40/200 [00:27<01:47,  1.48it/s]"
          ]
        },
        {
          "output_type": "stream",
          "name": "stdout",
          "text": [
            "iteration 40, Total Loss: 61224.43611159066\n"
          ]
        },
        {
          "output_type": "stream",
          "name": "stderr",
          "text": [
            " 30%|███       | 60/200 [00:40<01:34,  1.49it/s]"
          ]
        },
        {
          "output_type": "stream",
          "name": "stdout",
          "text": [
            "iteration 60, Total Loss: 59950.94885370063\n"
          ]
        },
        {
          "output_type": "stream",
          "name": "stderr",
          "text": [
            " 40%|████      | 80/200 [00:54<01:21,  1.47it/s]"
          ]
        },
        {
          "output_type": "stream",
          "name": "stdout",
          "text": [
            "iteration 80, Total Loss: 59401.84723921918\n"
          ]
        },
        {
          "output_type": "stream",
          "name": "stderr",
          "text": [
            " 50%|█████     | 100/200 [01:07<01:06,  1.49it/s]"
          ]
        },
        {
          "output_type": "stream",
          "name": "stdout",
          "text": [
            "iteration 100, Total Loss: 59119.1154317163\n"
          ]
        },
        {
          "output_type": "stream",
          "name": "stderr",
          "text": [
            " 60%|██████    | 120/200 [01:20<00:53,  1.48it/s]"
          ]
        },
        {
          "output_type": "stream",
          "name": "stdout",
          "text": [
            "iteration 120, Total Loss: 58956.13458595142\n"
          ]
        },
        {
          "output_type": "stream",
          "name": "stderr",
          "text": [
            " 70%|███████   | 140/200 [01:34<00:40,  1.48it/s]"
          ]
        },
        {
          "output_type": "stream",
          "name": "stdout",
          "text": [
            "iteration 140, Total Loss: 58853.9849845405\n"
          ]
        },
        {
          "output_type": "stream",
          "name": "stderr",
          "text": [
            " 80%|████████  | 160/200 [01:48<00:27,  1.47it/s]"
          ]
        },
        {
          "output_type": "stream",
          "name": "stdout",
          "text": [
            "iteration 160, Total Loss: 58785.499754122815\n"
          ]
        },
        {
          "output_type": "stream",
          "name": "stderr",
          "text": [
            " 90%|█████████ | 180/200 [02:01<00:13,  1.46it/s]"
          ]
        },
        {
          "output_type": "stream",
          "name": "stdout",
          "text": [
            "iteration 180, Total Loss: 58736.93673406892\n"
          ]
        },
        {
          "output_type": "stream",
          "name": "stderr",
          "text": [
            "100%|██████████| 200/200 [02:15<00:00,  1.48it/s]"
          ]
        },
        {
          "output_type": "stream",
          "name": "stdout",
          "text": [
            "iteration 200, Total Loss: 58700.84897185277\n"
          ]
        },
        {
          "output_type": "stream",
          "name": "stderr",
          "text": [
            "\n"
          ]
        }
      ]
    },
    {
      "cell_type": "markdown",
      "source": [
        "##Test Set Prediction"
      ],
      "metadata": {
        "id": "qv3gZRWE4CqU"
      }
    },
    {
      "cell_type": "markdown",
      "source": [
        "Loss value and Mean Squared Error calculation are made on the test data that the model has not seen before."
      ],
      "metadata": {
        "id": "dJOUYQSBidOk"
      }
    },
    {
      "cell_type": "code",
      "source": [
        "seRegularizedModel, lossRegularizedModel = [], []\n",
        "for i, j in zip(irow, jcol):\n",
        "    y = r[i, j]\n",
        "\n",
        "    y_pred = userBiasReg[i] + itemBiasReg[j]\n",
        "    seRegularizedModel.append(squareError(y, y_pred))\n",
        "    lossRegularizedModel.append(lossRegularization(r, userBiasReg, itemBiasReg, i, j, optimalLam))"
      ],
      "metadata": {
        "id": "38TFPobOcp_H"
      },
      "execution_count": 24,
      "outputs": []
    },
    {
      "cell_type": "code",
      "source": [
        "cons.print(f\"Loss of Regularized Regression : {np.sum(np.array(lossRegularizedModel)):.5f}\")\n",
        "cons.print(f\"Squared Error of Regularized Regression: {np.sum(np.array(seRegularizedModel)):.5f}\")"
      ],
      "metadata": {
        "colab": {
          "base_uri": "https://localhost:8080/",
          "height": 49
        },
        "id": "Xbd15UxQdpHT",
        "outputId": "5f58cced-72ec-4642-96a9-56dced8515e9"
      },
      "execution_count": 25,
      "outputs": [
        {
          "output_type": "display_data",
          "data": {
            "text/plain": [
              "Loss of Regularized Regression : \u001b[1;36m73882.88167\u001b[0m\n"
            ],
            "text/html": [
              "<pre style=\"white-space:pre;overflow-x:auto;line-height:normal;font-family:Menlo,'DejaVu Sans Mono',consolas,'Courier New',monospace\">Loss of Regularized Regression : <span style=\"color: #008080; text-decoration-color: #008080; font-weight: bold\">73882.88167</span>\n",
              "</pre>\n"
            ]
          },
          "metadata": {}
        },
        {
          "output_type": "display_data",
          "data": {
            "text/plain": [
              "Squared Error of Regularized Regression: \u001b[1;36m87849.84167\u001b[0m\n"
            ],
            "text/html": [
              "<pre style=\"white-space:pre;overflow-x:auto;line-height:normal;font-family:Menlo,'DejaVu Sans Mono',consolas,'Courier New',monospace\">Squared Error of Regularized Regression: <span style=\"color: #008080; text-decoration-color: #008080; font-weight: bold\">87849.84167</span>\n",
              "</pre>\n"
            ]
          },
          "metadata": {}
        }
      ]
    },
    {
      "cell_type": "code",
      "source": [
        ""
      ],
      "metadata": {
        "id": "St4XoH5BwGIv"
      },
      "execution_count": 25,
      "outputs": []
    }
  ]
}