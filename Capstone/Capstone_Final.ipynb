{
  "nbformat": 4,
  "nbformat_minor": 0,
  "metadata": {
    "colab": {
      "name": "Capstone_Final.ipynb",
      "provenance": []
    },
    "kernelspec": {
      "name": "python3",
      "display_name": "Python 3"
    },
    "language_info": {
      "name": "python"
    }
  },
  "cells": [
    {
      "cell_type": "markdown",
      "source": [
        "# Fashion Recommendation"
      ],
      "metadata": {
        "id": "L9EgKtIwwqeg"
      }
    },
    {
      "cell_type": "markdown",
      "source": [
        "## Libraries"
      ],
      "metadata": {
        "id": "ry60IKW90xIF"
      }
    },
    {
      "cell_type": "code",
      "source": [
        "!pip install gensim==4.0.0\n",
        "!pip install ml_metrics"
      ],
      "metadata": {
        "colab": {
          "base_uri": "https://localhost:8080/"
        },
        "id": "JYbbXGRFiSDy",
        "outputId": "97afd847-e0b9-445b-a96e-f02cc57ec23a"
      },
      "execution_count": null,
      "outputs": [
        {
          "output_type": "stream",
          "name": "stdout",
          "text": [
            "Requirement already satisfied: gensim==4.0.0 in /usr/local/lib/python3.7/dist-packages (4.0.0)\n",
            "Requirement already satisfied: smart-open>=1.8.1 in /usr/local/lib/python3.7/dist-packages (from gensim==4.0.0) (5.2.1)\n",
            "Requirement already satisfied: numpy>=1.11.3 in /usr/local/lib/python3.7/dist-packages (from gensim==4.0.0) (1.21.5)\n",
            "Requirement already satisfied: scipy>=0.18.1 in /usr/local/lib/python3.7/dist-packages (from gensim==4.0.0) (1.4.1)\n"
          ]
        }
      ]
    },
    {
      "cell_type": "code",
      "source": [
        "import numpy as np\n",
        "import warnings\n",
        "import pandas as pd\n",
        "import gc\n",
        "from datetime import datetime, timedelta\n",
        "import numpy as np\n",
        "from tqdm import tqdm\n",
        "import pickle\n",
        "from gensim.test.utils import common_texts, get_tmpfile\n",
        "from sklearn.decomposition import NMF\n",
        "from time import perf_counter as pc\n",
        "from gensim.models import word2vec\n",
        "import ml_metrics as metrics\n",
        "from gensim.models.callbacks import CallbackAny2Vec\n",
        "from scipy.sparse import coo_matrix\n",
        "warnings.filterwarnings(\"ignore\")"
      ],
      "metadata": {
        "id": "D660LaPZ0zYa",
        "colab": {
          "base_uri": "https://localhost:8080/"
        },
        "outputId": "944a6467-f32e-499a-f600-a3de4116ddca"
      },
      "execution_count": null,
      "outputs": [
        {
          "output_type": "stream",
          "name": "stderr",
          "text": [
            "/usr/local/lib/python3.7/dist-packages/gensim/similarities/__init__.py:15: UserWarning: The gensim.similarities.levenshtein submodule is disabled, because the optional Levenshtein package <https://pypi.org/project/python-Levenshtein/> is unavailable. Install Levenhstein (e.g. `pip install python-Levenshtein`) to suppress this warning.\n",
            "  warnings.warn(msg)\n"
          ]
        }
      ]
    },
    {
      "cell_type": "code",
      "source": [
        "from google.colab import drive\n",
        "drive.mount(\"/content/gdrive\")"
      ],
      "metadata": {
        "colab": {
          "base_uri": "https://localhost:8080/"
        },
        "id": "FavZAcE-07DQ",
        "outputId": "85ef64ab-10e5-4b78-9d58-4e36510b7895"
      },
      "execution_count": null,
      "outputs": [
        {
          "output_type": "stream",
          "name": "stdout",
          "text": [
            "Drive already mounted at /content/gdrive; to attempt to forcibly remount, call drive.mount(\"/content/gdrive\", force_remount=True).\n"
          ]
        }
      ]
    },
    {
      "cell_type": "markdown",
      "source": [
        "##Metric"
      ],
      "metadata": {
        "id": "OfTr8bvCb2_d"
      }
    },
    {
      "cell_type": "markdown",
      "source": [
        "The data we have is not a rating data. Instead, the User has information of the products purchased. In order to find out how well the recommendations work, it is necessary to see if the recommendations have been received by the user. Accuracy or MAP@K (Mean Average Precision at K) can be used for this."
      ],
      "metadata": {
        "id": "yYE_cPoBb6cY"
      }
    },
    {
      "cell_type": "code",
      "source": [
        "def apk(actual, predicted, k=10):\n",
        "    if len(predicted)>k:\n",
        "        predicted = predicted[:k]\n",
        "\n",
        "    score = 0.0\n",
        "    num_hits = 0.0\n",
        "\n",
        "    for i,p in enumerate(predicted):\n",
        "        if p in actual and p not in predicted[:i]:\n",
        "            num_hits += 1.0\n",
        "            score += num_hits / (i+1.0)\n",
        "\n",
        "    if not actual:\n",
        "        return 0.0\n",
        "\n",
        "    return score / min(len(actual), k)\n",
        "\n",
        "def mapk(actual, predicted, k=10):\n",
        "    return np.mean([apk(a,p,k) for a,p in zip(actual, predicted)])"
      ],
      "metadata": {
        "id": "ajfuvfMY5Ad_"
      },
      "execution_count": null,
      "outputs": []
    },
    {
      "cell_type": "markdown",
      "source": [
        "## Read Data"
      ],
      "metadata": {
        "id": "Us31DZOLIWSi"
      }
    },
    {
      "cell_type": "code",
      "execution_count": null,
      "metadata": {
        "id": "fxslqF8vr4RS"
      },
      "outputs": [],
      "source": [
        "transactions = pd.read_csv(\"https://storage.googleapis.com/gm-datascience-share/capstone/transactions.csv.gz\", dtype={'article_id': str}, parse_dates=['t_dat'])\n",
        "customers = pd.read_csv(\"https://storage.googleapis.com/gm-datascience-share/capstone/customers.csv.gz\")\n",
        "products = pd.read_csv(\"https://storage.googleapis.com/gm-datascience-share/capstone/articles.csv.gz\", dtype={'article_id': str})"
      ]
    },
    {
      "cell_type": "code",
      "source": [
        "transactions['sales_channel_id']=transactions.sales_channel_id.astype('int8')\n",
        "transactions['t_dat'] = pd.to_datetime(transactions['t_dat'], format=\"%Y-%m-%d\")\n",
        "transactions['article_id']=transactions.article_id.astype('object')"
      ],
      "metadata": {
        "id": "TBETXEnnTRx9"
      },
      "execution_count": null,
      "outputs": []
    },
    {
      "cell_type": "markdown",
      "source": [
        "### Add Season and Year Column to Transactions"
      ],
      "metadata": {
        "id": "LvYSzAayTrHS"
      }
    },
    {
      "cell_type": "code",
      "source": [
        "seasons = [1, 1, 2, 2, 2, 3, 3, 3, 4, 4, 4, 1]\n",
        "month_to_season = dict(zip(range(1,13), seasons))"
      ],
      "metadata": {
        "id": "UO5eTFpMTUnc"
      },
      "execution_count": null,
      "outputs": []
    },
    {
      "cell_type": "code",
      "source": [
        "transactions[\"season\"] = transactions[\"t_dat\"].dt.month.map(month_to_season) \n",
        "transactions[\"year\"] = transactions[\"t_dat\"].dt.year"
      ],
      "metadata": {
        "id": "a1Lx9uzQTfra"
      },
      "execution_count": null,
      "outputs": []
    },
    {
      "cell_type": "code",
      "source": [
        "transactions.loc[(transactions[\"season\"]==1) & ((transactions[\"t_dat\"].dt.month==1) | (transactions[\"t_dat\"].dt.month==2)), \"year\"] -=1 "
      ],
      "metadata": {
        "id": "hbAALlf1Tl7G"
      },
      "execution_count": null,
      "outputs": []
    },
    {
      "cell_type": "code",
      "source": [
        "customers.loc[customers[\"fashion_news_frequency\"] == \"NONE\", \"fashion_news_frequency\"] = np.nan\n",
        "customers.loc[customers[\"fashion_news_frequency\"] == \"None\", \"fashion_news_frequency\"] = np.nan\n",
        "customers[\"fashion_news_frequency\"].unique()"
      ],
      "metadata": {
        "colab": {
          "base_uri": "https://localhost:8080/"
        },
        "id": "filMl0cK3fxc",
        "outputId": "7cfa52a7-1a9d-4ead-8e04-24d7e849b63e"
      },
      "execution_count": null,
      "outputs": [
        {
          "output_type": "execute_result",
          "data": {
            "text/plain": [
              "array([nan, 'Regularly', 'Monthly'], dtype=object)"
            ]
          },
          "metadata": {},
          "execution_count": 9
        }
      ]
    },
    {
      "cell_type": "markdown",
      "source": [
        "### Train-Test Split"
      ],
      "metadata": {
        "id": "k-skMx66Txvs"
      }
    },
    {
      "cell_type": "code",
      "source": [
        "X_train = transactions[transactions[\"t_dat\"] < transactions[\"t_dat\"].max() - timedelta(days=14)]\n",
        "X_test = transactions[transactions[\"t_dat\"] >= transactions[\"t_dat\"].max() - timedelta(days=7)]"
      ],
      "metadata": {
        "id": "b8PnLMyi2jo4"
      },
      "execution_count": null,
      "outputs": []
    },
    {
      "cell_type": "markdown",
      "source": [
        "## Part 1: Users who have not purchased anything"
      ],
      "metadata": {
        "id": "IWcwhLjh1Evc"
      }
    },
    {
      "cell_type": "markdown",
      "source": [
        "The given data is a data consisting of implicit feedbacks. Because of this, we have no information about how many points the user gave a product. We try to predict the products that the user will buy.\n",
        "Here, an estimation is made for users who have not purchased a product before, based on the age of the user. A calculation is made on the products that people in the same age range buy the most in this year's season and the products they buy the most in the same season last year."
      ],
      "metadata": {
        "id": "KmkS8-HixEMg"
      }
    },
    {
      "cell_type": "markdown",
      "source": [
        "### Create Age Groups"
      ],
      "metadata": {
        "id": "FalKav1_3jjR"
      }
    },
    {
      "cell_type": "code",
      "source": [
        "customers['age']=customers.age.astype('float16')\n",
        "bins= [15,25,35,45,55, 110]\n",
        "labels = ['[15,25)','[25,35)','[35,45)','[45,55)','[55,110)']\n",
        "customers['AgeGroup'] = pd.cut(customers['age'], bins=bins, labels=labels, right=False)"
      ],
      "metadata": {
        "id": "c2eyipx33cIj"
      },
      "execution_count": null,
      "outputs": []
    },
    {
      "cell_type": "markdown",
      "source": [
        "### Recommend Favorite products by Age Groups"
      ],
      "metadata": {
        "id": "JUv2CQaf3mh7"
      }
    },
    {
      "cell_type": "code",
      "source": [
        "def favouriteItems(df, interval, ageGroup=None):\n",
        "  if ageGroup!=None:\n",
        "    return df[df[\"AgeGroup\"] == ageGroup].groupby(\"article_id\").size().reset_index(name=f'counts{interval}').sort_values(by=[f'counts{interval}'], ascending=False).head(10)\n",
        "  else:\n",
        "    return df.groupby(\"article_id\").size().reset_index(name=f'counts{interval}').sort_values(by=[f'counts{interval}'], ascending=False).head(50)"
      ],
      "metadata": {
        "id": "al-OHf4g3mF_"
      },
      "execution_count": null,
      "outputs": []
    },
    {
      "cell_type": "markdown",
      "source": [
        "####Top Ten Item"
      ],
      "metadata": {
        "id": "8-tLQf3P4Iyk"
      }
    },
    {
      "cell_type": "code",
      "source": [
        "def favouriteItemsTopTen(df, topn=10, ageGroup=None):\n",
        "  # Last Month\n",
        "  lastOneMonth = df[(df[\"t_dat\"] >= df[\"t_dat\"].max() - timedelta(days=30))]\n",
        "  lastOneMonth = pd.merge(lastOneMonth, customers, on=[\"customer_id\"], how=\"inner\")\n",
        "  last_monthFavourite= favouriteItems(lastOneMonth, \"Month\", ageGroup)\n",
        "  \n",
        "  #Last Year\n",
        "  lastYear = df[(df[\"year\"] == (df[\"t_dat\"].max() - timedelta(days=365)).year) & (df[\"season\"] == 4)]\n",
        "  lastYear = pd.merge(lastYear, customers, on=[\"customer_id\"], how=\"inner\")\n",
        "  last_year_favouite = favouriteItems(lastYear, \"Year\", ageGroup)\n",
        "\n",
        "  top_ten = pd.merge(last_year_favouite, last_monthFavourite, on=[\"article_id\"], how=\"outer\").fillna(0)\n",
        "  top_ten[\"sum_counts\"] = (top_ten['countsYear'] * 0.2) + (top_ten['countsMonth'] * 0.8)\n",
        "  \n",
        "  del lastYear, lastOneMonth, last_monthFavourite, last_year_favouite\n",
        "  gc.collect()\n",
        "  return top_ten.sort_values(by=[f'sum_counts'], ascending=False).head(topn)[\"article_id\"].values"
      ],
      "metadata": {
        "id": "wAgtfg1D3r23"
      },
      "execution_count": null,
      "outputs": []
    },
    {
      "cell_type": "markdown",
      "source": [
        "## PART 2: Product recommendation for the user who has bought something before"
      ],
      "metadata": {
        "id": "d_6rdI_I5XT7"
      }
    },
    {
      "cell_type": "markdown",
      "source": [
        "### PART 2.1 Non-Negative Matrix Factorization Model"
      ],
      "metadata": {
        "id": "jb26o57-MV0S"
      }
    },
    {
      "cell_type": "markdown",
      "source": [
        "#### Create customer-item map for Coordinate Matrix"
      ],
      "metadata": {
        "id": "vWpBJRnRMCIC"
      }
    },
    {
      "cell_type": "code",
      "source": [
        "customersList = customers['customer_id'].unique().tolist()\n",
        "productsList = products['article_id'].unique().tolist()\n",
        "\n",
        "customerDict = dict(list(enumerate(customersList)))\n",
        "productsDict = dict(list(enumerate(productsList)))\n",
        "\n",
        "customer_map = {u: customerId for customerId, u in customerDict.items()}\n",
        "item_map = {i: itemId for itemId, i in productsDict.items()}\n",
        "\n",
        "X_train['user_id'] = X_train['customer_id'].map(customer_map)\n",
        "X_train['item_id'] = X_train['article_id'].map(item_map)"
      ],
      "metadata": {
        "id": "_8uufvT65tqp"
      },
      "execution_count": null,
      "outputs": []
    },
    {
      "cell_type": "markdown",
      "source": [
        "#### Time Decay"
      ],
      "metadata": {
        "id": "cg_qhqmr9hG-"
      }
    },
    {
      "cell_type": "code",
      "source": [
        "X_train[\"timeDecayCount\"] = np.exp(-(X_train[\"t_dat\"].max() - X_train[\"t_dat\"]).dt.days * 0.01)"
      ],
      "metadata": {
        "id": "cKT4Tcul_LrM"
      },
      "execution_count": null,
      "outputs": []
    },
    {
      "cell_type": "markdown",
      "source": [
        "#### Create Coordinate Matrix"
      ],
      "metadata": {
        "id": "zCb4CtbxJ-n_"
      }
    },
    {
      "cell_type": "code",
      "source": [
        "row = X_train['user_id'].values\n",
        "col = X_train['item_id'].values\n",
        "\n",
        "data = np.array(X_train[\"timeDecayCount\"])\n",
        "coo = coo_matrix((data, (row, col)), shape=(len(customersList), len(productsList)))\n",
        "#csr = coo.tocsr()"
      ],
      "metadata": {
        "id": "W9wd5Cbv51ht"
      },
      "execution_count": null,
      "outputs": []
    },
    {
      "cell_type": "markdown",
      "source": [
        "####Create Non-Negative Matrix Factorization Model"
      ],
      "metadata": {
        "id": "5-iUDR1TLxV-"
      }
    },
    {
      "cell_type": "code",
      "source": [
        "model = NMF(n_components=50, max_iter=100,init=\"random\", random_state=0, tol=0.000001, verbose=True, alpha_W = 0.00001)\n",
        "start_time = pc()\n",
        "W = model.fit_transform(coo)\n",
        "end_time = pc()\n",
        "print(\"Used (secs): \", end_time - start_time)\n",
        "print(model.n_iter_)"
      ],
      "metadata": {
        "colab": {
          "base_uri": "https://localhost:8080/"
        },
        "id": "1TY6C1zrEzGi",
        "outputId": "4fc5599c-2090-4255-f2f1-1074a82b65be"
      },
      "execution_count": null,
      "outputs": [
        {
          "output_type": "stream",
          "name": "stdout",
          "text": [
            "violation: 1.0\n",
            "violation: 2.5030724866635228\n",
            "violation: 3.250766200819901\n",
            "violation: 1.3544848932672406\n",
            "violation: 0.9507060573280439\n",
            "violation: 0.6632617664355154\n",
            "violation: 0.4647791791698198\n",
            "violation: 0.324952277297675\n",
            "violation: 0.23817753453032728\n",
            "violation: 0.17642835176592037\n",
            "violation: 0.13848454949697306\n",
            "violation: 0.11527289183222028\n",
            "violation: 0.09914880338257447\n",
            "violation: 0.0870547836599462\n",
            "violation: 0.07744765834340013\n",
            "violation: 0.06984727660845368\n",
            "violation: 0.06368827946659014\n",
            "violation: 0.05953335685950895\n",
            "violation: 0.056259454142109366\n",
            "violation: 0.05303072705353694\n",
            "violation: 0.04902655432721998\n",
            "violation: 0.044139650205520575\n",
            "violation: 0.039170572603060554\n",
            "violation: 0.034640128104644556\n",
            "violation: 0.03069849321466123\n",
            "violation: 0.02713361965223357\n",
            "violation: 0.02425849534199902\n",
            "violation: 0.021780518348668662\n",
            "violation: 0.019787167320517256\n",
            "violation: 0.01814639027973071\n",
            "violation: 0.016905084232846184\n",
            "violation: 0.015943721230108822\n",
            "violation: 0.015218338270944915\n",
            "violation: 0.014693619408093854\n",
            "violation: 0.014362650465488045\n",
            "violation: 0.014148563375024025\n",
            "violation: 0.01402286464776605\n",
            "violation: 0.01395322367354045\n",
            "violation: 0.013894923339016095\n",
            "violation: 0.013860260545972142\n",
            "violation: 0.013844647044357283\n",
            "violation: 0.01383520227515834\n",
            "violation: 0.013827903757108195\n",
            "violation: 0.013816842648545003\n",
            "violation: 0.013781612002178282\n",
            "violation: 0.01373679118408204\n",
            "violation: 0.01366053609656264\n",
            "violation: 0.013546635043772105\n",
            "violation: 0.01339882167217585\n",
            "violation: 0.013200188477219038\n",
            "violation: 0.012897607106844292\n",
            "violation: 0.01247628105828155\n",
            "violation: 0.011959558560646903\n",
            "violation: 0.011381500009082338\n",
            "violation: 0.01082823192120396\n",
            "violation: 0.010322273954503813\n",
            "violation: 0.009760259205488234\n",
            "violation: 0.00923863288161513\n",
            "violation: 0.008803167787166645\n",
            "violation: 0.00843652686663425\n",
            "violation: 0.008106940429656184\n",
            "violation: 0.007810989067793471\n",
            "violation: 0.00753972447867547\n",
            "violation: 0.007285392923262314\n",
            "violation: 0.007053224088470472\n",
            "violation: 0.006831838988374989\n",
            "violation: 0.006622086222901187\n",
            "violation: 0.006421599974140076\n",
            "violation: 0.006220785889459477\n",
            "violation: 0.006006579902008523\n",
            "violation: 0.00580136026862872\n",
            "violation: 0.005606636342855625\n",
            "violation: 0.005410983462709194\n",
            "violation: 0.005213752131165423\n",
            "violation: 0.005016719558328467\n",
            "violation: 0.004815772917114293\n",
            "violation: 0.0046078354424376276\n",
            "violation: 0.004398246790137643\n",
            "violation: 0.004188181083811049\n",
            "violation: 0.003977795745915416\n",
            "violation: 0.0037758506776997425\n",
            "violation: 0.003583905456630685\n",
            "violation: 0.0034008786523989673\n",
            "violation: 0.003228110418574325\n",
            "violation: 0.003064863904810859\n",
            "violation: 0.00291026631290948\n",
            "violation: 0.002764622765409923\n",
            "violation: 0.002625804967621006\n",
            "violation: 0.002489412929120213\n",
            "violation: 0.0023629517157411776\n",
            "violation: 0.00223620170063985\n",
            "violation: 0.0021051637770344795\n",
            "violation: 0.0019710363087097602\n",
            "violation: 0.0018591921992105892\n",
            "violation: 0.001775128553093924\n",
            "violation: 0.001707084073368923\n",
            "violation: 0.0016493032629614896\n",
            "violation: 0.0015989661189008517\n",
            "violation: 0.001553679024610206\n",
            "violation: 0.0015141804429076365\n",
            "Used (secs):  1531.8099445320004\n",
            "100\n"
          ]
        }
      ]
    },
    {
      "cell_type": "code",
      "source": [
        "H = model.components_"
      ],
      "metadata": {
        "id": "4Bjwai83FBd6"
      },
      "execution_count": null,
      "outputs": []
    },
    {
      "cell_type": "markdown",
      "source": [
        "#### Save-Load Model"
      ],
      "metadata": {
        "id": "t9kpIrGhbhOE"
      }
    },
    {
      "cell_type": "markdown",
      "source": [
        "Save"
      ],
      "metadata": {
        "id": "3CJFMjGLad1T"
      }
    },
    {
      "cell_type": "code",
      "source": [
        "import pickle\n",
        "with open('/content/gdrive/My Drive/Colab Notebooks/WTimeDecayed','wb') as f:\n",
        "    pickle.dump(W, f)\n",
        "\n",
        "with open('/content/gdrive/My Drive/Colab Notebooks/HTimeDecayed','wb') as f:\n",
        "    pickle.dump(H, f)"
      ],
      "metadata": {
        "id": "rfEm9k5xFM7L"
      },
      "execution_count": null,
      "outputs": []
    },
    {
      "cell_type": "markdown",
      "source": [
        "Load"
      ],
      "metadata": {
        "id": "IgFMVFA3agj_"
      }
    },
    {
      "cell_type": "code",
      "source": [
        "with open('/content/gdrive/My Drive/Colab Notebooks/WTimeDecayed', 'rb') as f:\n",
        "    W = pickle.load(f)\n",
        "\n",
        "with open('/content/gdrive/My Drive/Colab Notebooks/HTimeDecayed', 'rb') as f:\n",
        "    H = pickle.load(f)"
      ],
      "metadata": {
        "id": "1XgWIprXadDx"
      },
      "execution_count": null,
      "outputs": []
    },
    {
      "cell_type": "markdown",
      "source": [
        "### PART 2.2 Word2Vec Model"
      ],
      "metadata": {
        "id": "jGvOKzg_MSVL"
      }
    },
    {
      "cell_type": "markdown",
      "source": [
        "#### Create Sentences"
      ],
      "metadata": {
        "id": "xj9YhPePMmHm"
      }
    },
    {
      "cell_type": "code",
      "source": [
        "sentences = []\n",
        "for year in X_train[\"year\"].unique():\n",
        "  for season in X_train[X_train[\"year\"] == year][\"season\"].unique():\n",
        "    transaction_temp = X_train[(X_train[\"year\"] == year) & ((X_train[\"season\"] == season))][[\"customer_id\", \"article_id\"]]\n",
        "    #transaction_temp = X_train[(X_train[\"year\"] == year)][[\"customer_id\", \"article_id\"]]\n",
        "\n",
        "    transaction_temp[\"article_id\"]= transaction_temp[\"article_id\"].values.astype(str)\n",
        "    transaction_temp = transaction_temp.groupby(\"customer_id\").agg({'article_id': ' '.join})\n",
        "    for index, row in tqdm(transaction_temp.iterrows()):\n",
        "      sentences.append(row[\"article_id\"].split(\" \"))\n",
        "    \n",
        "    #sentences.append(transaction_temp.groupby(\"customer_id\").agg({'article_id': ' '.join}).values)"
      ],
      "metadata": {
        "id": "AiIyo-s0LsbY"
      },
      "execution_count": null,
      "outputs": []
    },
    {
      "cell_type": "markdown",
      "source": [
        "Save sentences"
      ],
      "metadata": {
        "id": "jE17sj3uMwVR"
      }
    },
    {
      "cell_type": "code",
      "source": [
        "with open(\"/content/gdrive/My Drive/Colab Notebooks/word2vec\", \"wb\") as fp:   #Pickling\n",
        "  pickle.dump(sentences, fp)"
      ],
      "metadata": {
        "id": "Jg1tXlUMMySf"
      },
      "execution_count": null,
      "outputs": []
    },
    {
      "cell_type": "markdown",
      "source": [
        "Load sentences"
      ],
      "metadata": {
        "id": "AQCu4OJOM0__"
      }
    },
    {
      "cell_type": "code",
      "source": [
        "with open(\"/content/gdrive/My Drive/Colab Notebooks/word2vec\", \"rb\") as fp:   # Unpickling\n",
        "  sentences = pickle.load(fp)"
      ],
      "metadata": {
        "id": "qFp-P5p2M1-_"
      },
      "execution_count": null,
      "outputs": []
    },
    {
      "cell_type": "markdown",
      "source": [
        "#### Create Word2Vec Model"
      ],
      "metadata": {
        "id": "6-bYCpDeM6Og"
      }
    },
    {
      "cell_type": "code",
      "source": [
        "class callback(CallbackAny2Vec):\n",
        "    '''Callback to print loss after each epoch.'''\n",
        "\n",
        "    def __init__(self):\n",
        "        self.epoch = 0\n",
        "\n",
        "    def on_epoch_end(self, model):\n",
        "        loss = model.get_latest_training_loss()\n",
        "        print('Loss after epoch {}: {}'.format(self.epoch, loss))\n",
        "        self.epoch += 1\n",
        "\n",
        "model = word2vec.Word2Vec(sentences, vector_size=75, min_count=1,\n",
        "                          window = 5, hs = 0,\n",
        "                          negative = 10, # for negative sampling\n",
        "                          alpha=0.001, min_alpha=0.00001,\n",
        "                          epochs = 20, sg=0, workers=1, compute_loss=True, callbacks=[callback()])"
      ],
      "metadata": {
        "id": "mw8AMtWHM4Cc"
      },
      "execution_count": null,
      "outputs": []
    },
    {
      "cell_type": "markdown",
      "source": [
        "#### Save-Load Model"
      ],
      "metadata": {
        "id": "aW6usV-Tb-5y"
      }
    },
    {
      "cell_type": "markdown",
      "source": [
        "Save Model"
      ],
      "metadata": {
        "id": "mjxftS0pNCED"
      }
    },
    {
      "cell_type": "code",
      "source": [
        "model.save(\"/content/gdrive/My Drive/Colab Notebooks/word2vec.model\")"
      ],
      "metadata": {
        "id": "zjIvQA3cNC1S"
      },
      "execution_count": null,
      "outputs": []
    },
    {
      "cell_type": "markdown",
      "source": [
        "Load Model"
      ],
      "metadata": {
        "id": "opxu5f6sNEeP"
      }
    },
    {
      "cell_type": "code",
      "source": [
        "model = word2vec.Word2Vec.load(\"/content/gdrive/My Drive/Colab Notebooks/word2vec.model\")"
      ],
      "metadata": {
        "id": "uFBUSYXeNFfH"
      },
      "execution_count": null,
      "outputs": []
    },
    {
      "cell_type": "markdown",
      "source": [
        "## Recommendation"
      ],
      "metadata": {
        "id": "jPJtUptbQcDo"
      }
    },
    {
      "cell_type": "markdown",
      "source": [
        "###ItemId to ArticleId"
      ],
      "metadata": {
        "id": "xLzr7l8yMXve"
      }
    },
    {
      "cell_type": "code",
      "source": [
        "def itemIdToArticleId(X_train, item_idList):\n",
        "  itemArr = []\n",
        "  for itemid in item_idList:\n",
        "    itemArr.append(X_train.loc[X_train[\"item_id\"] == itemid, \"article_id\"].unique()[0])\n",
        "  return itemArr"
      ],
      "metadata": {
        "id": "Zf4LlxW8xbi0"
      },
      "execution_count": null,
      "outputs": []
    },
    {
      "cell_type": "markdown",
      "source": [
        "###Word2Vec Prediction"
      ],
      "metadata": {
        "id": "1Lx4kodzMcgq"
      }
    },
    {
      "cell_type": "code",
      "source": [
        "def predictSimilarItem(model, items, recommendedItems):\n",
        "  #predictWord2VecItems = model.predict_output_word(context_words_list = items, topn=int(topn/2))\n",
        "  predCount = 4 if len(items) == 1 else 2\n",
        "\n",
        "  for item in items[-2:]:\n",
        "    predictWord2VecItems = model.wv.most_similar(item, topn=predCount)\n",
        "    for predictedItem in predictWord2VecItems:\n",
        "      recommendedItems.append(predictedItem[0])\n",
        "    del predictWord2VecItems\n",
        "  del items, predCount\n",
        "  return recommendedItems"
      ],
      "metadata": {
        "id": "OUrm5RKW-dJy"
      },
      "execution_count": null,
      "outputs": []
    },
    {
      "cell_type": "markdown",
      "source": [
        "### Recommendation Engine"
      ],
      "metadata": {
        "id": "ZO9_BgvaMuOq"
      }
    },
    {
      "cell_type": "code",
      "source": [
        "test_user = X_test[\"customer_id\"].unique()\n",
        "\n",
        "averagePrecisionK = 0.0\n",
        "for user in test_user[0:10]:\n",
        "  recommendedItems = []\n",
        "  topn = 10\n",
        "  if user not in X_train[\"customer_id\"].values:\n",
        "    ageGroup = customers.loc[customers[\"customer_id\"]==user, \"AgeGroup\"].values[0]\n",
        "    print(f\"Recommended Item ids for user {user}:\")\n",
        "    recommendedItems = favouriteItemsTopTen(X_train, topn, ageGroup)\n",
        "    del ageGroup\n",
        "\n",
        "  else:\n",
        "    itemInTrainSet = X_test[X_test.article_id.isin(X_train['article_id'])]\n",
        "    if user in itemInTrainSet[\"customer_id\"].values:\n",
        "      items = itemInTrainSet.loc[X_test[\"customer_id\"]==user, \"article_id\"].values.tolist()\n",
        "      recommendedItems = predictSimilarItem(model, items, recommendedItems)\n",
        "      recommendedItems = list(set(recommendedItems))\n",
        "\n",
        "      topn-=len(recommendedItems)\n",
        "      \n",
        "    #if user in X_train[\"customer_id\"].values:\n",
        "    user_i = X_train.loc[X_train[\"customer_id\"] == user, \"user_id\"].values[0]\n",
        "    item_pred = W[user_i, :] @ H[:, :]\n",
        "    item_ids = item_pred.argsort()[::-1][:topn]\n",
        "\n",
        "    for item in itemIdToArticleId(X_train, item_ids):\n",
        "      recommendedItems.append(item)\n",
        "\n",
        "    print(f\"Recommended Item ids for user {user}:\")\n",
        "    print(recommendedItems)\n",
        "    averagePrecisionK += metrics.mapk(X_test.loc[X_test[\"customer_id\"] == user, \"article_id\"].values, recommendedItems, 10)\n",
        "    del user_i, item_pred, item_ids, itemInTrainSet\n",
        "  print(metrics.mapk(X_test.loc[X_test[\"customer_id\"] == user, \"article_id\"].values, recommendedItems, 10))\n",
        "  #print(mapk(X_test.loc[X_test[\"customer_id\"] == user, \"article_id\"], recommendedItems, k=topn))\n",
        "  gc.collect()"
      ],
      "metadata": {
        "colab": {
          "base_uri": "https://localhost:8080/"
        },
        "id": "aoqv3lRvQgzJ",
        "outputId": "a2dc1509-793b-4d73-a49e-701392d349a7"
      },
      "execution_count": null,
      "outputs": [
        {
          "output_type": "stream",
          "name": "stdout",
          "text": [
            "Recommended Item ids for user 000058a12d5b43e67d225668fa1f8d618c13dc232df0cad8ffe7ad4a1091e318:\n",
            "['868691001', '805000007', '866610001', '865914001', '599580055', '811925009', '776237020', '351484039', '823505001', '811927007']\n",
            "0.10687830687830686\n",
            "Recommended Item ids for user 00040239317e877c77ac6e79df42eb2633ad38fcac09fc0094e549180ddc201c:\n",
            "['718076043', '687524018', '864043003', '502186003', '783346001', '749699002', '806388001', '749699001', '816563001', '817353008']\n",
            "0.4544973544973545\n",
            "Recommended Item ids for user 000749135ee9aa3a24c2316ea5ae4f495b39c1653c5612bb5b239f1b2a182a2a:\n",
            "['800691007', '800691013', '706016001', '706016002', '706016038', '706016006', '706016015', '706016019', '554450001', '621381012']\n",
            "0.36018518518518516\n",
            "Recommended Item ids for user 0015f37f752a41a75c3be6f3f92deedc4c87d039f1758ec41f54f8c7f4729793:\n",
            "['916926005', '920869003', '929673001', '906100002', '811925009', '751471001', '706016001', '866383006', '811927007', '823118001']\n",
            "0.26488340192043897\n",
            "Recommended Item ids for user 001b09b8679f1efaefebab00c6d7fdeb036e2ca015605f7034620837e36ac66d:\n",
            "['709269003', '658298014', '788093003', '762063003', '933706001', '915526001', '749699002', '572797001', '916468003', '896152002']\n",
            "0.32967372134038797\n",
            "Recommended Item ids for user 001c7ef1467b8cafcf79b1d9f68be7130bc5e24f67ffd77187509218c6f40efa:\n",
            "['864363001', '906088003', '891025002', '906830001', '599580055', '749699002', '636323001', '776237020', '749699001', '759871002']\n",
            "0.17989417989417988\n",
            "Recommended Item ids for user 00201f34c8c92683263346d78c2b45ffd0c6927229542d8040a5c5c38b174eb6:\n",
            "['878604002', '873279004', '739669001', '688064001', '706016001', '768912001', '749699002', '749699001', '816563001', '803757001']\n",
            "0.28246619635508524\n",
            "Recommended Item ids for user 0024dbfbe9bf4f2db0ec54e1ce39ecfa91759fd29fa5565fbdbdb9c85ef1cd1c:\n",
            "['736489022', '932107001', '909895001', '936217001', '717490010', '717490064', '717490008', '717490057', '717490058', '778064028']\n",
            "0.3748015873015873\n",
            "Recommended Item ids for user 0025c286360fd6d6321a5b8c57272370e8d32e18ce4a4e9366f8b97063ab95c0:\n",
            "['748355017', '758034001', '636323001', '806388001', '803757001', '759871002', '806388003', '749699002', '685814001', '800691007']\n",
            "0.25489417989417984\n",
            "Recommended Item ids for user 002d357090653902c9eebf57182b663b7e58cd0eccdf2f902cad40ba955cf7c7:\n",
            "['872537004', '887457002', '947509001', '902419001', '749699002', '749699001', '816563001', '817353008', '817472002', '817472005']\n",
            "0.35330687830687835\n"
          ]
        }
      ]
    },
    {
      "cell_type": "code",
      "source": [
        "averagePrecisionK/10"
      ],
      "metadata": {
        "colab": {
          "base_uri": "https://localhost:8080/"
        },
        "id": "H06JA47nQS67",
        "outputId": "ad99b022-773c-4d1e-95f9-b2d89667e47c"
      },
      "execution_count": null,
      "outputs": [
        {
          "output_type": "execute_result",
          "data": {
            "text/plain": [
              "0.2961480991573584"
            ]
          },
          "metadata": {},
          "execution_count": 127
        }
      ]
    }
  ]
}